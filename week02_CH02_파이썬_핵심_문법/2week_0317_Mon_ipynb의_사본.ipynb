{
  "nbformat": 4,
  "nbformat_minor": 0,
  "metadata": {
    "colab": {
      "provenance": [],
      "authorship_tag": "ABX9TyOoZmemGee0QG84TR/CAgCv",
      "include_colab_link": true
    },
    "kernelspec": {
      "name": "python3",
      "display_name": "Python 3"
    },
    "language_info": {
      "name": "python"
    }
  },
  "cells": [
    {
      "cell_type": "markdown",
      "metadata": {
        "id": "view-in-github",
        "colab_type": "text"
      },
      "source": [
        "<a href=\"https://colab.research.google.com/github/among5094/Big-Data-Integrated-Analysis/blob/main/week02_CH02_%ED%8C%8C%EC%9D%B4%EC%8D%AC_%ED%95%B5%EC%8B%AC_%EB%AC%B8%EB%B2%95/2week_0317_Mon_ipynb%EC%9D%98_%EC%82%AC%EB%B3%B8.ipynb\" target=\"_parent\"><img src=\"https://colab.research.google.com/assets/colab-badge.svg\" alt=\"Open In Colab\"/></a>"
      ]
    },
    {
      "cell_type": "markdown",
      "source": [
        "# CHAPTER02 파이썬 핵심 문법\n",
        "### 날짜: 3월 17일 월요일( 2주차 )"
      ],
      "metadata": {
        "id": "IDf8Tg3NUiLs"
      }
    },
    {
      "cell_type": "markdown",
      "source": [
        "### 2.2 변수"
      ],
      "metadata": {
        "id": "RC0DBzK0QaR-"
      }
    },
    {
      "cell_type": "code",
      "source": [
        "print(\"안녕 파이썬!\")"
      ],
      "metadata": {
        "colab": {
          "base_uri": "https://localhost:8080/"
        },
        "id": "AmPINUvUXHc9",
        "outputId": "2f141ad9-8da7-47f6-a14f-dbf028328080"
      },
      "execution_count": null,
      "outputs": [
        {
          "output_type": "stream",
          "name": "stdout",
          "text": [
            "안녕 파이썬!\n"
          ]
        }
      ]
    },
    {
      "cell_type": "code",
      "execution_count": null,
      "metadata": {
        "id": "ATv0gk5DUaP6"
      },
      "outputs": [],
      "source": [
        "# 변수 할당(assignment)\n",
        "name = 'Kim'"
      ]
    },
    {
      "cell_type": "code",
      "source": [
        "# 변수 생성 및 규칙\n",
        "\n",
        "x=100\n",
        "x=97.5\n",
        "\n",
        "char='Lee'"
      ],
      "metadata": {
        "id": "MIy_DHN3U21M"
      },
      "execution_count": null,
      "outputs": []
    },
    {
      "cell_type": "markdown",
      "source": [
        "### 2.3 연산자"
      ],
      "metadata": {
        "id": "CT7p_0_1QgrT"
      }
    },
    {
      "cell_type": "code",
      "source": [
        "# 연산자\n",
        "x=10\n",
        "y=20\n",
        "print(x+y)"
      ],
      "metadata": {
        "colab": {
          "base_uri": "https://localhost:8080/"
        },
        "id": "mBQ1AvWAXi_V",
        "outputId": "45a20dc7-ac3c-4242-bce5-21a9df5cd4c6"
      },
      "execution_count": null,
      "outputs": [
        {
          "output_type": "stream",
          "name": "stdout",
          "text": [
            "30\n"
          ]
        }
      ]
    },
    {
      "cell_type": "code",
      "source": [
        "a=100\n",
        "print(a)"
      ],
      "metadata": {
        "colab": {
          "base_uri": "https://localhost:8080/"
        },
        "id": "JcCRz7D_XjVE",
        "outputId": "f51da60e-312a-4f43-96eb-f021bc00ebba"
      },
      "execution_count": null,
      "outputs": [
        {
          "output_type": "stream",
          "name": "stdout",
          "text": [
            "100\n"
          ]
        }
      ]
    },
    {
      "cell_type": "code",
      "source": [
        "a=100\n",
        "a=200 # 마지막에 할당된 변수\n",
        "print(a)"
      ],
      "metadata": {
        "colab": {
          "base_uri": "https://localhost:8080/"
        },
        "id": "hS2e7G6RXkJR",
        "outputId": "f24861e2-02d2-4c14-b130-fab5ff2a1014"
      },
      "execution_count": null,
      "outputs": [
        {
          "output_type": "stream",
          "name": "stdout",
          "text": [
            "200\n"
          ]
        }
      ]
    },
    {
      "cell_type": "code",
      "source": [
        "name = '이순신'\n",
        "addr = '서울시'\n",
        "print(name, addr) # c언어는 print하려고 하면 format을 사용해야했는데 그러지 않아도 되어서 편함."
      ],
      "metadata": {
        "colab": {
          "base_uri": "https://localhost:8080/"
        },
        "id": "4_j60d0UXkzL",
        "outputId": "c9bba0ca-e9af-4e59-c394-d1308c692fb0"
      },
      "execution_count": null,
      "outputs": [
        {
          "output_type": "stream",
          "name": "stdout",
          "text": [
            "이순신 서울시\n"
          ]
        }
      ]
    },
    {
      "cell_type": "code",
      "source": [
        "age=20\n",
        "age=age+5\n",
        "print('5년 후 나이:', age)"
      ],
      "metadata": {
        "colab": {
          "base_uri": "https://localhost:8080/"
        },
        "id": "2V6FErmEXkvx",
        "outputId": "956a4cda-e01d-42c8-ab2d-5cc61e205566"
      },
      "execution_count": null,
      "outputs": [
        {
          "output_type": "stream",
          "name": "stdout",
          "text": [
            "5년 후 나이: 25\n"
          ]
        }
      ]
    },
    {
      "cell_type": "code",
      "source": [
        "x=10\n",
        "y=20\n",
        "print(x+y) # 덧셈\n",
        "print(x-y) # 뺄셈\n",
        "print(x*y) # 곱셈\n",
        "print(x/y) # 나눗셈\n",
        "print(x%y) # 나머지\n",
        "print(x**2) # 거듭제곱\n",
        "print(x//y) # 몫"
      ],
      "metadata": {
        "colab": {
          "base_uri": "https://localhost:8080/"
        },
        "id": "1j-D8Ui1Xktd",
        "outputId": "d9342c57-b8bb-4b53-c63e-5f091b52d71d"
      },
      "execution_count": null,
      "outputs": [
        {
          "output_type": "stream",
          "name": "stdout",
          "text": [
            "30\n",
            "-10\n",
            "200\n",
            "0.5\n",
            "10\n",
            "100\n",
            "0\n"
          ]
        }
      ]
    },
    {
      "cell_type": "code",
      "source": [
        "start = '파이썬'\n",
        "end='짱!'\n",
        "start+end"
      ],
      "metadata": {
        "colab": {
          "base_uri": "https://localhost:8080/",
          "height": 35
        },
        "id": "ZfFDlQsoXkrV",
        "outputId": "db80b9ca-794b-4978-87db-71bafb903120"
      },
      "execution_count": null,
      "outputs": [
        {
          "output_type": "execute_result",
          "data": {
            "text/plain": [
              "'파이썬짱!'"
            ],
            "application/vnd.google.colaboratory.intrinsic+json": {
              "type": "string"
            }
          },
          "metadata": {},
          "execution_count": 24
        }
      ]
    },
    {
      "cell_type": "code",
      "source": [
        "word='파이썬 '\n",
        "word*5"
      ],
      "metadata": {
        "colab": {
          "base_uri": "https://localhost:8080/",
          "height": 35
        },
        "id": "lgRvwtkTXko_",
        "outputId": "cb243c2a-748b-4be2-a418-8206b4db5666"
      },
      "execution_count": null,
      "outputs": [
        {
          "output_type": "execute_result",
          "data": {
            "text/plain": [
              "'파이썬 파이썬 파이썬 파이썬 파이썬 '"
            ],
            "application/vnd.google.colaboratory.intrinsic+json": {
              "type": "string"
            }
          },
          "metadata": {},
          "execution_count": 26
        }
      ]
    },
    {
      "cell_type": "markdown",
      "source": [
        "### 2.4 표준 입.출력"
      ],
      "metadata": {
        "id": "9RLug6o5Zl7W"
      }
    },
    {
      "cell_type": "code",
      "source": [
        "# input()함수를 이용하여 자료를 입력받고 저장\n",
        "name=input('이름입력: ')\n",
        "print(name)"
      ],
      "metadata": {
        "colab": {
          "base_uri": "https://localhost:8080/"
        },
        "id": "lisIRw6oXkmo",
        "outputId": "8042c6f2-62cd-4e68-a434-f0d8f06863ac"
      },
      "execution_count": null,
      "outputs": [
        {
          "output_type": "stream",
          "name": "stdout",
          "text": [
            "이름입력: 냥\n",
            "냥\n"
          ]
        }
      ]
    },
    {
      "cell_type": "code",
      "source": [
        "x=int(input('숫자1 입력: '))\n",
        "y=int(input('숫자2 입력: '))\n",
        "print(x+y)"
      ],
      "metadata": {
        "colab": {
          "base_uri": "https://localhost:8080/"
        },
        "id": "C-1lf0M9Zo2V",
        "outputId": "766c7103-e632-4605-f127-f6478163db1a"
      },
      "execution_count": null,
      "outputs": [
        {
          "output_type": "stream",
          "name": "stdout",
          "text": [
            "숫자1 입력: 10\n",
            "숫자2 입력: 20\n",
            "30\n"
          ]
        }
      ]
    },
    {
      "cell_type": "code",
      "source": [
        "z=float(input('숫자 입력: '))\n",
        "print(z)"
      ],
      "metadata": {
        "colab": {
          "base_uri": "https://localhost:8080/"
        },
        "id": "j9SqLE4rZoyy",
        "outputId": "980f135e-5258-4751-d57a-492072bbad1e"
      },
      "execution_count": null,
      "outputs": [
        {
          "output_type": "stream",
          "name": "stdout",
          "text": [
            "숫자 입력: 3.3\n",
            "3.3\n"
          ]
        }
      ]
    },
    {
      "cell_type": "code",
      "source": [
        "print('파이썬')\n",
        "print('짱')"
      ],
      "metadata": {
        "colab": {
          "base_uri": "https://localhost:8080/"
        },
        "id": "CMfLMkmZZowp",
        "outputId": "57cf123a-4aab-41d0-f68f-857580422ad8"
      },
      "execution_count": null,
      "outputs": [
        {
          "output_type": "stream",
          "name": "stdout",
          "text": [
            "파이썬\n",
            "짱\n"
          ]
        }
      ]
    },
    {
      "cell_type": "code",
      "source": [
        "# end옵션: 줄바꿈제어\n",
        "print('파이썬', end=' ')\n",
        "print('짱')"
      ],
      "metadata": {
        "colab": {
          "base_uri": "https://localhost:8080/"
        },
        "id": "Z1TInI_DZouO",
        "outputId": "2969b5fd-11dd-418d-fe96-e1b2556d4684"
      },
      "execution_count": null,
      "outputs": [
        {
          "output_type": "stream",
          "name": "stdout",
          "text": [
            "파이썬 짱\n"
          ]
        }
      ]
    },
    {
      "cell_type": "code",
      "source": [
        "# 콤마(,)를 이용한 출력\n",
        "name = input('이름 입력: ')\n",
        "print('이름:', name)"
      ],
      "metadata": {
        "colab": {
          "base_uri": "https://localhost:8080/"
        },
        "id": "NxntsiGibgLb",
        "outputId": "7e0f7866-e898-4b2c-c05e-4fbf599db4a4"
      },
      "execution_count": null,
      "outputs": [
        {
          "output_type": "stream",
          "name": "stdout",
          "text": [
            "이름 입력: 혜민\n",
            "이름: 혜민\n"
          ]
        }
      ]
    },
    {
      "cell_type": "code",
      "source": [
        "# 파이썬도 형식 지정 가능\n",
        "name = input('이름 입력: ')\n",
        "print('이름 %s' % name)"
      ],
      "metadata": {
        "colab": {
          "base_uri": "https://localhost:8080/"
        },
        "id": "1mjan4FZZorw",
        "outputId": "b920821a-5c27-4ced-bbad-d534379adab2"
      },
      "execution_count": null,
      "outputs": [
        {
          "output_type": "stream",
          "name": "stdout",
          "text": [
            "이름 입력: 혜민\n",
            "이름 혜민\n"
          ]
        }
      ]
    },
    {
      "cell_type": "code",
      "source": [
        "# %d 형식지정자를 이용한 출력\n",
        "x=int(input('숫자1 입력: '))\n",
        "y=int(input('숫자2 입력: '))\n",
        "print('%d + %d = %d' % (x,y,x/y))"
      ],
      "metadata": {
        "colab": {
          "base_uri": "https://localhost:8080/"
        },
        "id": "E4-ps1dybZ9a",
        "outputId": "b8966747-7579-4fd6-8976-426abc9a0178"
      },
      "execution_count": null,
      "outputs": [
        {
          "output_type": "stream",
          "name": "stdout",
          "text": [
            "숫자1 입력: 20\n",
            "숫자2 입력: 30\n",
            "20 + 30 = 0\n"
          ]
        }
      ]
    },
    {
      "cell_type": "code",
      "source": [
        "# %f 형식지정자를 이용한 출력\n",
        "x=int(input('숫자1 입력: '))\n",
        "y=int(input('숫자2 입력: '))\n",
        "print('%d + %d = %f' % (x,y,x/y))"
      ],
      "metadata": {
        "colab": {
          "base_uri": "https://localhost:8080/"
        },
        "id": "3ZpeatSMbZ5-",
        "outputId": "9a89e335-7e40-4844-cb90-88478a5ba6fa"
      },
      "execution_count": null,
      "outputs": [
        {
          "output_type": "stream",
          "name": "stdout",
          "text": [
            "숫자1 입력: 3\n",
            "숫자2 입력: 3\n",
            "3 + 3 = 1.000000\n"
          ]
        }
      ]
    },
    {
      "cell_type": "code",
      "source": [
        "# format() 함수를 이용한 출력\n",
        "x=int(input('숫자1 입력: '))\n",
        "y=int(input('숫자2 입력: '))\n",
        "print('{0} * {1} = {2}'. format(x,y,x*y))"
      ],
      "metadata": {
        "id": "IEWQuwTbbZ3p"
      },
      "execution_count": null,
      "outputs": []
    },
    {
      "cell_type": "code",
      "source": [
        "# 중괄호 순서를 변경하고 자료를 반복하여 출력\n",
        "print('{1} {1} 작은 {0}'. format('별', '반짝'))"
      ],
      "metadata": {
        "colab": {
          "base_uri": "https://localhost:8080/"
        },
        "id": "JrscvXiPbZ1V",
        "outputId": "c9eebe1f-4a5b-4e36-b449-2e07a64473c4"
      },
      "execution_count": null,
      "outputs": [
        {
          "output_type": "stream",
          "name": "stdout",
          "text": [
            "반짝 반짝 작은 별\n"
          ]
        }
      ]
    },
    {
      "cell_type": "code",
      "source": [
        "# f-string 포맷팅을 이용한 출력\n",
        "x=int(input('숫자1 입력: '))\n",
        "y=int(input('숫자2 입력: '))\n",
        "print(f'{x} - {y} = {x-y}')"
      ],
      "metadata": {
        "colab": {
          "base_uri": "https://localhost:8080/"
        },
        "id": "sOSTUJFtbZzB",
        "outputId": "aa5a2d52-0f1c-4261-f1a4-fe6c4492e43f"
      },
      "execution_count": null,
      "outputs": [
        {
          "output_type": "stream",
          "name": "stdout",
          "text": [
            "숫자1 입력: 30\n",
            "숫자2 입력: 022\n",
            "30 - 22 = 8\n"
          ]
        }
      ]
    },
    {
      "cell_type": "markdown",
      "source": [
        "### 2.5 컬렉션 자료형"
      ],
      "metadata": {
        "id": "hBAzGhJnensD"
      }
    },
    {
      "cell_type": "markdown",
      "source": [
        "#### (2) 리스트\n",
        "1. 리스트를 만들 때는 [] 를 사용한다.\n",
        "2. 리스트 값을 찾을 때, index로 찾을 수 있다. -> 순서 있음\n",
        "3. 리스트는 값을 변경할 수 있다.\n",
        "4. 보통 동일한 자료형으로 구성되는데, 서로 다른 자료형이 들어가도 괜찮다."
      ],
      "metadata": {
        "id": "QMmkz6DCfRbm"
      }
    },
    {
      "cell_type": "code",
      "source": [
        "# 리스트 변수 사용\n",
        "\n",
        "x=[0,0,0,0]\n",
        "x[0]=int(input('숫자1 입력: '))\n",
        "x[1]=int(input('숫자2 입력: '))\n",
        "x[2]=int(input('숫자3 입력: '))\n",
        "x[3]=int(input('숫자4 입력: '))\n",
        "\n",
        "sum=x[0]+x[1]+x[2]+x[3]\n",
        "print('합계:', sum)"
      ],
      "metadata": {
        "colab": {
          "base_uri": "https://localhost:8080/"
        },
        "id": "vE_8EclYbZwq",
        "outputId": "04937013-c941-45b0-9fe1-0f6db093a3d9"
      },
      "execution_count": 1,
      "outputs": [
        {
          "output_type": "stream",
          "name": "stdout",
          "text": [
            "숫자1 입력: 1\n",
            "숫자2 입력: 2\n",
            "숫자3 입력: 3\n",
            "숫자4 입력: 4\n",
            "합계: 10\n"
          ]
        }
      ]
    },
    {
      "cell_type": "code",
      "source": [
        "x=[15,25,35,45]\n",
        "print(x)"
      ],
      "metadata": {
        "colab": {
          "base_uri": "https://localhost:8080/"
        },
        "id": "mX2zIHY3bZuL",
        "outputId": "6313d96d-1504-4aff-c942-4d4da3a117f0"
      },
      "execution_count": 3,
      "outputs": [
        {
          "output_type": "stream",
          "name": "stdout",
          "text": [
            "[15, 25, 35, 45]\n"
          ]
        }
      ]
    },
    {
      "cell_type": "code",
      "source": [
        "# 인덱싱\n",
        "x[0]+x[1]"
      ],
      "metadata": {
        "colab": {
          "base_uri": "https://localhost:8080/"
        },
        "id": "hR6IqvsAbZrp",
        "outputId": "be3be85a-3b23-4a11-836c-bb0b78df30ec"
      },
      "execution_count": 4,
      "outputs": [
        {
          "output_type": "execute_result",
          "data": {
            "text/plain": [
              "40"
            ]
          },
          "metadata": {},
          "execution_count": 4
        }
      ]
    },
    {
      "cell_type": "code",
      "source": [
        "x[0] # 리스트의 첫번째 요소 반환"
      ],
      "metadata": {
        "colab": {
          "base_uri": "https://localhost:8080/"
        },
        "id": "ITTy5wS5bZpJ",
        "outputId": "27d8cd87-5c53-4223-89e7-c53fab9151c2"
      },
      "execution_count": 5,
      "outputs": [
        {
          "output_type": "execute_result",
          "data": {
            "text/plain": [
              "15"
            ]
          },
          "metadata": {},
          "execution_count": 5
        }
      ]
    },
    {
      "cell_type": "code",
      "source": [
        "x[-1] # 리스트의 마지막 요소 반환"
      ],
      "metadata": {
        "colab": {
          "base_uri": "https://localhost:8080/"
        },
        "id": "PUzuxhoTbZmt",
        "outputId": "d4c50f6e-b2df-45e8-dea6-2eb302177f74"
      },
      "execution_count": 6,
      "outputs": [
        {
          "output_type": "execute_result",
          "data": {
            "text/plain": [
              "45"
            ]
          },
          "metadata": {},
          "execution_count": 6
        }
      ]
    },
    {
      "cell_type": "markdown",
      "source": [
        "Q. 왜 리스트의 정방향은 인덱스 0으로 시작하고 역방향은 -1인가?  \n",
        "A. 정방향이 [0]이고 역방향이 [-0]이라고 치면 결국 0으로 같으니까 역방향은 뒤에서부터 [-1]로 시작하는 게 맞다."
      ],
      "metadata": {
        "id": "io59Rv9TXXxz"
      }
    },
    {
      "cell_type": "code",
      "source": [
        "x[4] # 없는 값을 불러오니까 오류"
      ],
      "metadata": {
        "id": "efsE3u9IbZkL"
      },
      "execution_count": null,
      "outputs": []
    },
    {
      "cell_type": "code",
      "source": [
        "# 리스트 슬라이싱 사용하기\n",
        "x = [10,20,30,[40,50]]\n",
        "x[0:2] # 슬라이싱의 범위는 [n:m]이라면, 출력은[n:m-1]이다."
      ],
      "metadata": {
        "colab": {
          "base_uri": "https://localhost:8080/"
        },
        "id": "jdEtLE8Vf-h6",
        "outputId": "d6339349-46fe-4423-b6dc-cf0c532a78b4"
      },
      "execution_count": null,
      "outputs": [
        {
          "output_type": "execute_result",
          "data": {
            "text/plain": [
              "[10, 20]"
            ]
          },
          "metadata": {},
          "execution_count": 55
        }
      ]
    },
    {
      "cell_type": "markdown",
      "source": [
        "Q. 왜 슬라이싱의 범위는 [n:m]인데, 출력은 [n:m-1]일까?   \n",
        "A. 슬라이싱 범위 영역은 **\"반열린 구간\" (half-open interval) 개념**을 따름. 즉, **[시작:끝)**임  \n",
        "  \n",
        "왜 반열린 구간으로 설계했을까? -> 코드를 더 직관적으로 만들기 위해  \n",
        "1.  요소 개수를 쉽게 계산할 수 있음  \n",
        "- 예를들어 x[n:m]에서 가져오는 요소의 개수는 m - n 개임.\n",
        "2. 리스트 길이(len())와 잘 맞음  \n",
        "- 예를들어 x[1:4] → 4 - 1 = 3개 요소를 가져옴.  \n",
        "- x[:m]을 하면 처음부터 m-1까지 출력되며 m개 요소를 가짐등등...  \n",
        "3. 루프에서 더 편리함.  \n",
        "- c언어는 끝값을 수동으로 조절하지만, 파이썬은 그럴필요x\n",
        "- for i in range(n, m): 일 때, range(n, m)도 [n, m-1]까지만 반복하므로 일관성이 있음.\n"
      ],
      "metadata": {
        "id": "FVkN4SOyifnl"
      }
    },
    {
      "cell_type": "code",
      "source": [
        "# x[n:]은 x[n]부터 끝까지\n",
        "x[1:]"
      ],
      "metadata": {
        "colab": {
          "base_uri": "https://localhost:8080/"
        },
        "id": "a9BivqJaf-eY",
        "outputId": "b1b315fb-71c2-48b4-d375-fb91fc0fa7a5"
      },
      "execution_count": null,
      "outputs": [
        {
          "output_type": "execute_result",
          "data": {
            "text/plain": [
              "[20, 30, [40, 50]]"
            ]
          },
          "metadata": {},
          "execution_count": 56
        }
      ]
    },
    {
      "cell_type": "code",
      "source": [
        "# x[:m]은 처음부터 x[m-1]까지\n",
        "x[:2]"
      ],
      "metadata": {
        "colab": {
          "base_uri": "https://localhost:8080/"
        },
        "id": "jT73H68bf-b2",
        "outputId": "f4d0bbd3-1785-495a-e497-4e42c7dc976b"
      },
      "execution_count": null,
      "outputs": [
        {
          "output_type": "execute_result",
          "data": {
            "text/plain": [
              "[10, 20]"
            ]
          },
          "metadata": {},
          "execution_count": 57
        }
      ]
    },
    {
      "cell_type": "code",
      "source": [
        "# 역순 -> 뒤에서부터 출력\n",
        "x[-1]"
      ],
      "metadata": {
        "colab": {
          "base_uri": "https://localhost:8080/"
        },
        "id": "F8coZa-Ff-ZZ",
        "outputId": "86b9fdbf-d256-4f82-aa1a-9f7c47a380b3"
      },
      "execution_count": null,
      "outputs": [
        {
          "output_type": "execute_result",
          "data": {
            "text/plain": [
              "[40, 50]"
            ]
          },
          "metadata": {},
          "execution_count": 58
        }
      ]
    },
    {
      "cell_type": "code",
      "source": [
        "# 이중슬라이싱\n",
        "x[3]"
      ],
      "metadata": {
        "colab": {
          "base_uri": "https://localhost:8080/"
        },
        "id": "yByifqc6f-XM",
        "outputId": "5c4bdbac-5012-49c7-8987-75275b90c379"
      },
      "execution_count": null,
      "outputs": [
        {
          "output_type": "execute_result",
          "data": {
            "text/plain": [
              "[40, 50]"
            ]
          },
          "metadata": {},
          "execution_count": 59
        }
      ]
    },
    {
      "cell_type": "code",
      "source": [
        "# 이중 리스트 슬라이싱\n",
        "x[3][0] # 세 번째 인덱스의 0번째 부르기"
      ],
      "metadata": {
        "colab": {
          "base_uri": "https://localhost:8080/"
        },
        "id": "5xv6cesef-U5",
        "outputId": "b4301d16-bf62-462f-c15a-9306dd9a8cd0"
      },
      "execution_count": null,
      "outputs": [
        {
          "output_type": "execute_result",
          "data": {
            "text/plain": [
              "40"
            ]
          },
          "metadata": {},
          "execution_count": 60
        }
      ]
    },
    {
      "cell_type": "code",
      "source": [
        "x[3][1] # 세 번째 인덱스의 1번째 부르기"
      ],
      "metadata": {
        "colab": {
          "base_uri": "https://localhost:8080/"
        },
        "id": "wWFHT2uZf-S4",
        "outputId": "2e2ff669-73db-4dbf-c372-3b8bb575cd21"
      },
      "execution_count": null,
      "outputs": [
        {
          "output_type": "execute_result",
          "data": {
            "text/plain": [
              "50"
            ]
          },
          "metadata": {},
          "execution_count": 61
        }
      ]
    },
    {
      "cell_type": "code",
      "source": [
        "# 리스트 값 변경\n",
        "a=[10,20,30]\n",
        "print(a)"
      ],
      "metadata": {
        "colab": {
          "base_uri": "https://localhost:8080/"
        },
        "id": "zXvU-XYnf-QP",
        "outputId": "52e041b1-619a-4f8f-9015-3a7b4331e6f6"
      },
      "execution_count": null,
      "outputs": [
        {
          "output_type": "stream",
          "name": "stdout",
          "text": [
            "[10, 20, 30]\n"
          ]
        }
      ]
    },
    {
      "cell_type": "code",
      "source": [
        "# 리스트는 값 변경 가능\n",
        "a[0]=100\n",
        "print(a)"
      ],
      "metadata": {
        "colab": {
          "base_uri": "https://localhost:8080/"
        },
        "id": "f3HdF4i5f-NZ",
        "outputId": "f89493d0-d67c-4906-a587-01adb1c6e467"
      },
      "execution_count": null,
      "outputs": [
        {
          "output_type": "stream",
          "name": "stdout",
          "text": [
            "[100, 20, 30]\n"
          ]
        }
      ]
    },
    {
      "cell_type": "markdown",
      "source": [
        "#### (3) 튜플\n",
        "- 값 변경 불가능. read Only\n"
      ],
      "metadata": {
        "id": "Pan38MZIhtwL"
      }
    },
    {
      "cell_type": "code",
      "source": [
        "x=(1,2,3)\n",
        "print(x)"
      ],
      "metadata": {
        "colab": {
          "base_uri": "https://localhost:8080/"
        },
        "id": "dKxCFaGtf-Kw",
        "outputId": "631ea6de-e68e-426f-8cf7-29132a6a50cb"
      },
      "execution_count": 7,
      "outputs": [
        {
          "output_type": "stream",
          "name": "stdout",
          "text": [
            "(1, 2, 3)\n"
          ]
        }
      ]
    },
    {
      "cell_type": "code",
      "source": [
        "# 튜플의 인덱싱 및 슬라이싱\n",
        "x=(10,20,30,40)\n",
        "x[0]"
      ],
      "metadata": {
        "id": "I_EXYW27vsv9"
      },
      "execution_count": null,
      "outputs": []
    },
    {
      "cell_type": "code",
      "source": [
        "x[-1]"
      ],
      "metadata": {
        "id": "K_ZhsTczv1nN"
      },
      "execution_count": null,
      "outputs": []
    },
    {
      "cell_type": "markdown",
      "source": [
        "#### (4)딕셔너리\n",
        "- 키로 데이터를 찾을 수 있다.\n",
        "- {}로 이루어진다.\n",
        "- 수정 가능\n",
        "- 순서는 상관없다."
      ],
      "metadata": {
        "id": "DCFMr4RlmgLK"
      }
    },
    {
      "cell_type": "code",
      "source": [
        "# 빈 딕셔너리 생성 및 초기화\n",
        "fruit={1:'수박', 2:'참외', 3:'복숭아'}\n",
        "print(fruit)"
      ],
      "metadata": {
        "colab": {
          "base_uri": "https://localhost:8080/"
        },
        "id": "E4Sx_Uq9wC9v",
        "outputId": "a1c9829f-d49d-4a44-fd5c-bcc44fd33270"
      },
      "execution_count": 8,
      "outputs": [
        {
          "output_type": "stream",
          "name": "stdout",
          "text": [
            "{1: '수박', 2: '참외', 3: '복숭아'}\n"
          ]
        }
      ]
    },
    {
      "cell_type": "code",
      "source": [
        "# 딕셔너리 요소 접근\n",
        "menu={'김밥':3000, '라면':5000}\n",
        "menu['김밥']"
      ],
      "metadata": {
        "colab": {
          "base_uri": "https://localhost:8080/"
        },
        "id": "zbKOjwKdf-IY",
        "outputId": "b9abc549-9016-4b46-aba7-8e394958bba4"
      },
      "execution_count": 9,
      "outputs": [
        {
          "output_type": "execute_result",
          "data": {
            "text/plain": [
              "3000"
            ]
          },
          "metadata": {},
          "execution_count": 9
        }
      ]
    },
    {
      "cell_type": "code",
      "source": [
        "# 키 값으로 데이터 찾기\n",
        "menu['라면']"
      ],
      "metadata": {
        "colab": {
          "base_uri": "https://localhost:8080/"
        },
        "id": "5Ni_xxG4f-Fl",
        "outputId": "d735a91c-13ba-4bf8-d297-c9d178825fc0"
      },
      "execution_count": null,
      "outputs": [
        {
          "output_type": "execute_result",
          "data": {
            "text/plain": [
              "5000"
            ]
          },
          "metadata": {},
          "execution_count": 68
        }
      ]
    },
    {
      "cell_type": "code",
      "source": [
        "\"\"\"\n",
        "menu['라면']=5000\n",
        "menu['라면']\n",
        "\"\"\""
      ],
      "metadata": {
        "colab": {
          "base_uri": "https://localhost:8080/"
        },
        "id": "xhfiYQlbf-DL",
        "outputId": "65593375-484f-4f22-fa42-54612045fd64"
      },
      "execution_count": null,
      "outputs": [
        {
          "output_type": "execute_result",
          "data": {
            "text/plain": [
              "5000"
            ]
          },
          "metadata": {},
          "execution_count": 69
        }
      ]
    },
    {
      "cell_type": "code",
      "source": [
        "# 딕셔너리 제어 함수\n",
        "\n",
        "menu.items() # 딕셔너리에 저장된 모든 키와 값 반환"
      ],
      "metadata": {
        "colab": {
          "base_uri": "https://localhost:8080/"
        },
        "id": "OEPn-wzEf-A6",
        "outputId": "4ab71d69-8c42-4cff-f5b8-f82a93548c50"
      },
      "execution_count": 12,
      "outputs": [
        {
          "output_type": "execute_result",
          "data": {
            "text/plain": [
              "dict_items([('김밥', 3000), ('라면', 5000)])"
            ]
          },
          "metadata": {},
          "execution_count": 12
        }
      ]
    },
    {
      "cell_type": "code",
      "source": [
        "menu.keys() # 딕셔너리에 저장된 모든 키 반환"
      ],
      "metadata": {
        "colab": {
          "base_uri": "https://localhost:8080/"
        },
        "id": "aZsKLwrPw54Y",
        "outputId": "72c082d9-f622-4fe9-e68e-65876c5a7941"
      },
      "execution_count": 13,
      "outputs": [
        {
          "output_type": "execute_result",
          "data": {
            "text/plain": [
              "dict_keys(['김밥', '라면'])"
            ]
          },
          "metadata": {},
          "execution_count": 13
        }
      ]
    },
    {
      "cell_type": "code",
      "source": [
        "menu.values() # 딕셔너리에 저장된 모든 값 반환"
      ],
      "metadata": {
        "colab": {
          "base_uri": "https://localhost:8080/"
        },
        "id": "63zKa2D4w5xX",
        "outputId": "82f81e3a-5d4a-4bdc-9c68-6ee052b5f94b"
      },
      "execution_count": 14,
      "outputs": [
        {
          "output_type": "execute_result",
          "data": {
            "text/plain": [
              "dict_values([3000, 5000])"
            ]
          },
          "metadata": {},
          "execution_count": 14
        }
      ]
    },
    {
      "cell_type": "markdown",
      "source": [
        "#### (5) 세트\n",
        "- 집합에 관련된 것을 쉽게 처리하기 위해 만든 자료형\n",
        "- 중복안됨!  \n",
        "- 순서가 없기 때문에 인덱싱으로 값을 얻을 수 없음."
      ],
      "metadata": {
        "id": "JwtlVDsAnrGX"
      }
    },
    {
      "cell_type": "code",
      "source": [
        "# 세트 초기화\n",
        "x={10,20,30,20}\n",
        "x # set이라서 마지막 중복은 제거되니까"
      ],
      "metadata": {
        "colab": {
          "base_uri": "https://localhost:8080/"
        },
        "id": "gUh-XTkgf9-Y",
        "outputId": "1f5eacbc-518f-4892-a4b6-b12de85e3dae"
      },
      "execution_count": null,
      "outputs": [
        {
          "output_type": "execute_result",
          "data": {
            "text/plain": [
              "{10, 20, 30}"
            ]
          },
          "metadata": {},
          "execution_count": 74
        }
      ]
    },
    {
      "cell_type": "code",
      "source": [
        "# 세트 연산\n",
        "x={10,20,30}\n",
        "y={20,40}\n",
        "x&y # 교집합"
      ],
      "metadata": {
        "colab": {
          "base_uri": "https://localhost:8080/"
        },
        "id": "ab7eNDoGn9hY",
        "outputId": "a7ca4fb5-17f5-4ae1-9b64-989445d046bf"
      },
      "execution_count": null,
      "outputs": [
        {
          "output_type": "execute_result",
          "data": {
            "text/plain": [
              "{20}"
            ]
          },
          "metadata": {},
          "execution_count": 75
        }
      ]
    },
    {
      "cell_type": "code",
      "source": [
        "# 교집합\n",
        "x.intersection(y)"
      ],
      "metadata": {
        "colab": {
          "base_uri": "https://localhost:8080/"
        },
        "id": "gkuCLoZsn9d8",
        "outputId": "1045a0a1-bde6-4e13-a5e1-96527eca1b4b"
      },
      "execution_count": null,
      "outputs": [
        {
          "output_type": "execute_result",
          "data": {
            "text/plain": [
              "{20}"
            ]
          },
          "metadata": {},
          "execution_count": 76
        }
      ]
    },
    {
      "cell_type": "code",
      "source": [
        "# 합집합\n",
        "x|y"
      ],
      "metadata": {
        "colab": {
          "base_uri": "https://localhost:8080/"
        },
        "id": "YrUmy4FVn9bY",
        "outputId": "6a1e86be-94e0-41b9-a7fd-1958b83f46e3"
      },
      "execution_count": null,
      "outputs": [
        {
          "output_type": "execute_result",
          "data": {
            "text/plain": [
              "{10, 20, 30, 40}"
            ]
          },
          "metadata": {},
          "execution_count": 78
        }
      ]
    },
    {
      "cell_type": "code",
      "source": [
        "x.union(y) # 합집합"
      ],
      "metadata": {
        "colab": {
          "base_uri": "https://localhost:8080/"
        },
        "id": "x7l4Yj97n9Yv",
        "outputId": "b1038c6c-bfa8-4e9a-e57f-1ebbb591e9d8"
      },
      "execution_count": null,
      "outputs": [
        {
          "output_type": "execute_result",
          "data": {
            "text/plain": [
              "{10, 20, 30, 40}"
            ]
          },
          "metadata": {},
          "execution_count": 79
        }
      ]
    },
    {
      "cell_type": "code",
      "source": [
        "x-y # 차집합"
      ],
      "metadata": {
        "colab": {
          "base_uri": "https://localhost:8080/"
        },
        "id": "NDCHxNH5n9WF",
        "outputId": "81ad2495-fd93-41c2-8434-fcbfef9c57b4"
      },
      "execution_count": null,
      "outputs": [
        {
          "output_type": "execute_result",
          "data": {
            "text/plain": [
              "{10, 30}"
            ]
          },
          "metadata": {},
          "execution_count": 81
        }
      ]
    },
    {
      "cell_type": "code",
      "source": [
        "x.difference(y) # 차집합"
      ],
      "metadata": {
        "colab": {
          "base_uri": "https://localhost:8080/"
        },
        "id": "dFEwUyETn9Ta",
        "outputId": "f3102ce3-bd81-425c-c2bc-d57582df3a79"
      },
      "execution_count": null,
      "outputs": [
        {
          "output_type": "execute_result",
          "data": {
            "text/plain": [
              "{10, 30}"
            ]
          },
          "metadata": {},
          "execution_count": 82
        }
      ]
    },
    {
      "cell_type": "markdown",
      "source": [
        "#### 2.6 리스트 내포(List comprehension)\n",
        "\n",
        "- 원하는 자료들을 조회 또는 추출하여 리스트로 변환하는 표현식\n",
        "- 파이썬에서 리스트를 빠르고 간결하게 생성할 때 사용\n",
        "- [표현식 for 요소 in 반복가능객체 if 조건문]\n",
        "1. 반복가능객체(iterable)에서 요소를 하나씩 가져온다.\n",
        "2. if 조건문이 있으면 해당 조건을 만족하는 요소만 처리한다. (조건이 없으면 모든 요소를 처리)\n",
        "3. 표현식을 적용하여 값(결과)을 생성한다.\n",
        "4. 새로운 리스트에 추가한다.\n",
        "5. 반복가능객체의 모든 요소에 대해 위 과정을 반복한다.\n",
        "\n",
        "정리: 반복 → 조건 체크(선택) → 변환(표현식) → 리스트 추가  \n"
      ],
      "metadata": {
        "id": "5iHpNi1Ap0Sr"
      }
    },
    {
      "cell_type": "code",
      "source": [
        "# 기본적인 리스트 내포 형식\n",
        "num=[-20,-10,0,10,20]\n",
        "[x+5 for x in num]"
      ],
      "metadata": {
        "colab": {
          "base_uri": "https://localhost:8080/"
        },
        "id": "cFImaMnCon0f",
        "outputId": "4fb93253-4153-4b8e-e69c-2495059c1a82"
      },
      "execution_count": null,
      "outputs": [
        {
          "output_type": "execute_result",
          "data": {
            "text/plain": [
              "[-15, -5, 5, 15, 25]"
            ]
          },
          "metadata": {},
          "execution_count": 83
        }
      ]
    },
    {
      "cell_type": "code",
      "source": [
        "# 조건 있는 리스트 내포 형식\n",
        "num=[-20,-10,0,10,20]\n",
        "[1/x for x in num if x>0]"
      ],
      "metadata": {
        "colab": {
          "base_uri": "https://localhost:8080/"
        },
        "id": "Rhphc1l6onvp",
        "outputId": "cebb7de3-7412-4b75-eb3f-741f20066ef8"
      },
      "execution_count": null,
      "outputs": [
        {
          "output_type": "execute_result",
          "data": {
            "text/plain": [
              "[0.1, 0.05]"
            ]
          },
          "metadata": {},
          "execution_count": 84
        }
      ]
    },
    {
      "cell_type": "code",
      "source": [
        "# 조건 있는 리스트 내포 형식\n",
        "num=[-20,-10,0,10,20]\n",
        "[1/x for x in num if x!=0]"
      ],
      "metadata": {
        "colab": {
          "base_uri": "https://localhost:8080/"
        },
        "id": "YhTKHyOWonq-",
        "outputId": "59166c78-299f-4dc0-cd70-63623fe6e0bb"
      },
      "execution_count": null,
      "outputs": [
        {
          "output_type": "execute_result",
          "data": {
            "text/plain": [
              "[-0.05, -0.1, 0.1, 0.05]"
            ]
          },
          "metadata": {},
          "execution_count": 85
        }
      ]
    },
    {
      "cell_type": "code",
      "source": [
        "# 추가적인 예시- 제곱 리스트 만들기\n",
        "\n",
        "numbers = [1, 2, 3, 4, 5]\n",
        "squared = [x**2 for x in numbers]\n",
        "print(squared)"
      ],
      "metadata": {
        "colab": {
          "base_uri": "https://localhost:8080/"
        },
        "id": "Rirtr0Wv1yAm",
        "outputId": "a8ab3b19-6768-4802-b2ee-49663cb31734"
      },
      "execution_count": 15,
      "outputs": [
        {
          "output_type": "stream",
          "name": "stdout",
          "text": [
            "[1, 4, 9, 16, 25]\n"
          ]
        }
      ]
    },
    {
      "cell_type": "code",
      "source": [],
      "metadata": {
        "id": "vosqwSTF1x-R"
      },
      "execution_count": null,
      "outputs": []
    },
    {
      "cell_type": "code",
      "source": [],
      "metadata": {
        "id": "bfD1DsHW1x70"
      },
      "execution_count": null,
      "outputs": []
    },
    {
      "cell_type": "markdown",
      "source": [
        "#### 2.7 선택문\n",
        "\n",
        "- 파이썬의 제어문은 2가지 있다. 선택문과 반복문.\n",
        "- 선택문은 if-elif-else 구조\n",
        "-  "
      ],
      "metadata": {
        "id": "7YdhAbNDquwK"
      }
    },
    {
      "cell_type": "code",
      "source": [
        "# 선택문 (if-elif-else) 예시\n",
        "score = 85\n",
        "\n",
        "if score >= 90:\n",
        "    print(\"A 학점\")\n",
        "elif score >= 80:\n",
        "    print(\"B 학점\")\n",
        "else:\n",
        "    print(\"C 학점\")"
      ],
      "metadata": {
        "id": "EKyIBQPnonoV",
        "colab": {
          "base_uri": "https://localhost:8080/"
        },
        "outputId": "5937b892-4d7c-4d9a-907b-6e9e7b2a9eda"
      },
      "execution_count": 16,
      "outputs": [
        {
          "output_type": "stream",
          "name": "stdout",
          "text": [
            "B 학점\n"
          ]
        }
      ]
    },
    {
      "cell_type": "markdown",
      "source": [
        "#### 2.8 반복문과 기타 제어문\n",
        "- 반복문은 for문과 while문이 있다.\n",
        "- for문은 범위의 횟수 동안 특정 문장을 여러번 실행\n",
        "- while문은 조건식의 결과가 True이면 여러번 반복실행, False이면 반복 종료\n"
      ],
      "metadata": {
        "id": "hq7Ra-2W44iB"
      }
    },
    {
      "cell_type": "code",
      "source": [
        "# 반복문 - for문 예시\n",
        "for i in range(1, 6):\n",
        "    print(f\"Hello {i}\")"
      ],
      "metadata": {
        "colab": {
          "base_uri": "https://localhost:8080/"
        },
        "id": "D_NqnALV5v-I",
        "outputId": "03f34726-666b-42fa-94c7-2bd2edb7f7aa"
      },
      "execution_count": 17,
      "outputs": [
        {
          "output_type": "stream",
          "name": "stdout",
          "text": [
            "Hello 1\n",
            "Hello 2\n",
            "Hello 3\n",
            "Hello 4\n",
            "Hello 5\n"
          ]
        }
      ]
    },
    {
      "cell_type": "code",
      "source": [
        "# 반복문 - while문 예시\n",
        "count = 3\n",
        "while count > 0:\n",
        "    print(f\"남은 횟수: {count}\")\n",
        "    count -= 1"
      ],
      "metadata": {
        "colab": {
          "base_uri": "https://localhost:8080/"
        },
        "id": "lo0oE0al5wPF",
        "outputId": "968db04e-4cc5-4819-9a74-009f2c154a74"
      },
      "execution_count": 18,
      "outputs": [
        {
          "output_type": "stream",
          "name": "stdout",
          "text": [
            "남은 횟수: 3\n",
            "남은 횟수: 2\n",
            "남은 횟수: 1\n"
          ]
        }
      ]
    },
    {
      "cell_type": "markdown",
      "source": [
        "#### 2.9 함수\n",
        "- 함수는 내장함수와 사용자 정이 함수가 있다.\n",
        "- 내장 함수는 프로그램에 이미 지정된 함수\n",
        "- 사용자 정의 함수는 사용자가 필요에 의해 직접 정의하는 함수"
      ],
      "metadata": {
        "id": "T-fiPGAguOOo"
      }
    },
    {
      "cell_type": "code",
      "source": [
        "# 내장 함수\n",
        "for var1, name in enumerate(['수박', '참외', '자두']):\n",
        "  print(x, name)"
      ],
      "metadata": {
        "colab": {
          "base_uri": "https://localhost:8080/"
        },
        "id": "jJD1LhTW6ynd",
        "outputId": "23f255ec-c868-4c2d-9eee-66d31b244a16"
      },
      "execution_count": 22,
      "outputs": [
        {
          "output_type": "stream",
          "name": "stdout",
          "text": [
            "(1, 2, 3) 수박\n",
            "(1, 2, 3) 참외\n",
            "(1, 2, 3) 자두\n"
          ]
        }
      ]
    },
    {
      "cell_type": "markdown",
      "source": [
        "❗❗❗❗❗❗❗❗❗  \n",
        "**내장 함수 이름을 변수명으로 사용하면 해당 내장 함수를 사용할 수 없게 된다!!**  \n",
        " 파이썬에서는 변수를 선언하면 그 변수명이 기존의 내장 함수명을 덮어써버림\n",
        "  \n",
        "sum = 10  # 내장 함수 덮어썼다면?  \n",
        "del sum  # sum 변수 삭제 (내장 함수 복구)"
      ],
      "metadata": {
        "id": "qTBjaG-n78ed"
      }
    },
    {
      "cell_type": "code",
      "source": [
        "# 내장 함수 예시\n",
        "numbers = [1, 2, 3, 4, 5, 6, 7, 8]\n",
        "print(len(numbers))  # 리스트 개수\n",
        "print(max(numbers))  # 최댓값 찾기\n",
        "\n",
        "del sum # # sum 변수를 삭제하여 내장 함수 복구\n",
        "print(sum(numbers))  # 리스트 합구하기"
      ],
      "metadata": {
        "colab": {
          "base_uri": "https://localhost:8080/"
        },
        "id": "oozRQYQr7TW2",
        "outputId": "df7ebc67-2104-4f3f-d291-f3fb5ffb86c9"
      },
      "execution_count": 27,
      "outputs": [
        {
          "output_type": "stream",
          "name": "stdout",
          "text": [
            "8\n",
            "8\n",
            "36\n"
          ]
        }
      ]
    },
    {
      "cell_type": "code",
      "source": [
        "# zip() 함수 사용\n",
        "num = [1,2,3]\n",
        "char = ['A', 'B', 'C']\n",
        "for item in zip(num,char):\n",
        "  print(item)"
      ],
      "metadata": {
        "id": "tmrYCvJIonl0",
        "colab": {
          "base_uri": "https://localhost:8080/"
        },
        "outputId": "905ba364-3d8d-43fc-f390-c8bba41e8937"
      },
      "execution_count": 29,
      "outputs": [
        {
          "output_type": "stream",
          "name": "stdout",
          "text": [
            "(1, 'A')\n",
            "(2, 'B')\n",
            "(3, 'C')\n"
          ]
        }
      ]
    },
    {
      "cell_type": "code",
      "source": [
        "# 난수 생성 예시\n",
        "import random\n",
        "for i in range(10):\n",
        "  var2 = random.random()\n",
        "  print(var2)"
      ],
      "metadata": {
        "id": "4giNJ3TGonjZ",
        "colab": {
          "base_uri": "https://localhost:8080/"
        },
        "outputId": "71f60b77-3ce0-4c18-9b91-85bc5cfa6fd0"
      },
      "execution_count": 34,
      "outputs": [
        {
          "output_type": "stream",
          "name": "stdout",
          "text": [
            "0.17016982181474638\n",
            "0.9134910621718699\n",
            "0.31894440661879375\n",
            "0.18293855867801223\n",
            "0.6646927847935146\n",
            "0.29608952301592084\n",
            "0.6406477205908413\n",
            "0.7671581700309691\n",
            "0.7199105956427206\n",
            "0.5144520441909959\n"
          ]
        }
      ]
    },
    {
      "cell_type": "code",
      "source": [
        "# 사용자 정의 함수\n"
      ],
      "metadata": {
        "id": "4YSBmSMaong2"
      },
      "execution_count": null,
      "outputs": []
    },
    {
      "cell_type": "code",
      "source": [
        "# 람다 표현식 작성"
      ],
      "metadata": {
        "id": "pjlPWOheonea"
      },
      "execution_count": null,
      "outputs": []
    },
    {
      "cell_type": "code",
      "source": [],
      "metadata": {
        "id": "IOzbemgL_44i"
      },
      "execution_count": null,
      "outputs": []
    },
    {
      "cell_type": "code",
      "source": [],
      "metadata": {
        "id": "uvKFMTzI_42N"
      },
      "execution_count": null,
      "outputs": []
    },
    {
      "cell_type": "code",
      "source": [],
      "metadata": {
        "id": "yuL9EFip_4zi"
      },
      "execution_count": null,
      "outputs": []
    },
    {
      "cell_type": "code",
      "source": [],
      "metadata": {
        "id": "tW8rzwb2_4J1"
      },
      "execution_count": null,
      "outputs": []
    }
  ]
}