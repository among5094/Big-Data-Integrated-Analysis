{
  "nbformat": 4,
  "nbformat_minor": 0,
  "metadata": {
    "colab": {
      "provenance": [],
      "authorship_tag": "ABX9TyPXpB5CHrPYQwb5XHJGQnB/",
      "include_colab_link": true
    },
    "kernelspec": {
      "name": "python3",
      "display_name": "Python 3"
    },
    "language_info": {
      "name": "python"
    }
  },
  "cells": [
    {
      "cell_type": "markdown",
      "metadata": {
        "id": "view-in-github",
        "colab_type": "text"
      },
      "source": [
        "<a href=\"https://colab.research.google.com/github/among5094/Big-Data-Integrated-Analysis/blob/main/week02_CH02_%ED%8C%8C%EC%9D%B4%EC%8D%AC_%ED%95%B5%EC%8B%AC_%EB%AC%B8%EB%B2%95/CH02%EC%9E%A5_%EC%97%B0%EC%8A%B5%EB%AC%B8%EC%A0%9C.ipynb\" target=\"_parent\"><img src=\"https://colab.research.google.com/assets/colab-badge.svg\" alt=\"Open In Colab\"/></a>"
      ]
    },
    {
      "cell_type": "markdown",
      "source": [
        "# CH02장 연습문제"
      ],
      "metadata": {
        "id": "yWs_G4jdtN8r"
      }
    },
    {
      "cell_type": "markdown",
      "source": [
        "### 1번 사용자로부터 학교 이름, 본인 이름, 연락처를 변수에 저장하여 출력해 보시오.\n",
        "\n",
        "- 변수명: 학교 이름(univ), 학과(dept), 연락처(phone)\n"
      ],
      "metadata": {
        "id": "slPwPkmWtQ6J"
      }
    },
    {
      "cell_type": "code",
      "execution_count": 4,
      "metadata": {
        "colab": {
          "base_uri": "https://localhost:8080/"
        },
        "id": "z_lNQGETtD9T",
        "outputId": "0c637a1f-d2f9-4ede-9c0c-2d6aa307cb5d"
      },
      "outputs": [
        {
          "output_type": "stream",
          "name": "stdout",
          "text": [
            "학교: 한국대\n",
            "학과: 컴공\n",
            "이름: 이순신\n",
            "연락처: 010-1234-5678\n"
          ]
        }
      ],
      "source": [
        "# 학생의 기본 정보 입력\n",
        "univ='한국대'\n",
        "dept='컴공'\n",
        "name='이순신'\n",
        "phone='010-1234-5678'\n",
        "\n",
        "# 입력된 정보를 출력\n",
        "print('학교:',univ)\n",
        "print('학과:',dept)\n",
        "print('이름:',name)\n",
        "print('연락처:',phone)"
      ]
    },
    {
      "cell_type": "code",
      "source": [],
      "metadata": {
        "id": "GzyV5FEytcyc"
      },
      "execution_count": null,
      "outputs": []
    },
    {
      "cell_type": "markdown",
      "source": [
        "### 2번 카페 총 매출액과 순수익을 출력하는 프로그램을 작성하시오.\n",
        "\n",
        "- 변수명: 아메리카노(ame), 카페라떼(cafelatte), 카푸치노(cappuccino), 총매출(total)\n",
        "- 가격: ame=2000, cafelatte=3500, cappuccino=3500\n",
        "- 하루 판매 수량은 각각 20개, 15개, 15개이며, 하루 재료비는 100,000원이다.\n"
      ],
      "metadata": {
        "id": "b1V1a4hHtqs6"
      }
    },
    {
      "cell_type": "code",
      "source": [
        "# 커피 가격 설정\n",
        "ame=2000\n",
        "cafelatte=3500\n",
        "cappuccino=3500\n",
        "\n",
        "# 총 원가 설정\n",
        "cost=100000\n",
        "\n",
        "# 총 매출 계산\n",
        "total = ame*20+cafelatte*15+cappuccino*15\n",
        "\n",
        "# 순이익 계산 (총 매출 - 원가)\n",
        "income = total - cost\n",
        "\n",
        "# 결과 출력\n",
        "print('총매출 : ', total)\n",
        "print('순이익 : ', income)"
      ],
      "metadata": {
        "colab": {
          "base_uri": "https://localhost:8080/"
        },
        "id": "jeVQCSzgtcwT",
        "outputId": "cbb0174d-f463-4f48-e7a0-53e4466b5597"
      },
      "execution_count": 3,
      "outputs": [
        {
          "output_type": "stream",
          "name": "stdout",
          "text": [
            "총매출 :  145000\n",
            "순이익 :  45000\n"
          ]
        }
      ]
    },
    {
      "cell_type": "code",
      "source": [],
      "metadata": {
        "id": "2VwIMsGitcuF"
      },
      "execution_count": null,
      "outputs": []
    },
    {
      "cell_type": "markdown",
      "source": [
        "### 3번 이름과 출생년도를 입력받아 한국 나이를 출력하는 프로그램을 작성하시오."
      ],
      "metadata": {
        "id": "1dHVxq5Cvk2K"
      }
    },
    {
      "cell_type": "code",
      "source": [
        "# 사용자에게 입력받기\n",
        "name = input('이름 입력: ')\n",
        "year = int(input('출생년도 입력: '))\n",
        "\n",
        "# 한국식 나이 계산: (기준년도 - 출생년도) + 1\n",
        "age = 2019 - year + 1\n",
        "\n",
        "# 결과 출력\n",
        "print('{}님의 한국 나이는 {}살'.format(name,age))"
      ],
      "metadata": {
        "colab": {
          "base_uri": "https://localhost:8080/"
        },
        "id": "uBO2MUq4tcrw",
        "outputId": "6ab70d8a-5242-4212-ef03-2554f3ddb584"
      },
      "execution_count": 5,
      "outputs": [
        {
          "output_type": "stream",
          "name": "stdout",
          "text": [
            "이름 입력: 이순신\n",
            "출생년도 입력: 2002\n",
            "이순신님의 한국 나이는 18살\n"
          ]
        }
      ]
    },
    {
      "cell_type": "code",
      "source": [],
      "metadata": {
        "id": "TCm8PP12tcpb"
      },
      "execution_count": null,
      "outputs": []
    },
    {
      "cell_type": "markdown",
      "source": [
        "### 4번 다음의 파이썬 코드 실행 결과가 나오도록 밑줄을 채우시오."
      ],
      "metadata": {
        "id": "WCqcrcHnwlg_"
      }
    },
    {
      "cell_type": "code",
      "source": [
        "# 관광지 이름을 저장한 리스트 생성\n",
        "spot = ['을지로', '가로수길', '홍대', '대학로']\n",
        "\n",
        "# 데이터 슬라이싱\n",
        "select = spot[2:]\n",
        "\n",
        "# 슬라이싱 결과 출력\n",
        "print(select)"
      ],
      "metadata": {
        "colab": {
          "base_uri": "https://localhost:8080/"
        },
        "id": "nKyzDq_Jtcm9",
        "outputId": "79977f14-3c1e-4a87-b8fe-cb65a87c0c75"
      },
      "execution_count": 6,
      "outputs": [
        {
          "output_type": "stream",
          "name": "stdout",
          "text": [
            "['홍대', '대학로']\n"
          ]
        }
      ]
    },
    {
      "cell_type": "code",
      "source": [],
      "metadata": {
        "id": "v3C6pNJxtckp"
      },
      "execution_count": null,
      "outputs": []
    },
    {
      "cell_type": "markdown",
      "source": [
        "### 5번 다음과 같은 실행 결과가 나오도록 밑줄에 알맞은 함수를 작성하시오."
      ],
      "metadata": {
        "id": "JVRy16yKyLdU"
      }
    },
    {
      "cell_type": "code",
      "source": [
        "# 학번(숫자)을 key, 이름을 value로 하는 딕셔너리 생성\n",
        "person = {100:'이순신', 200:'강감찬', 300:'김유신'}\n",
        "\n",
        "# 딕셔너리의 키(key) 목록을 리스트로 변환하여 출력\n",
        "list(person.keys()) # [100, 200, 300]\n",
        "\n",
        "# 딕셔너리의 값(value) 목록을 리스트로 변환하여 출력\n",
        "list(person.values()) # ['이순신', '강감찬', '김유신']\n",
        "\n",
        "# 딕셔너리의 키-값 쌍을 (key, value) 형태의 튜플로 묶어 리스트로 반환\n",
        "list(person.items()) # [(100, '이순신'), (200, '강감찬'), (300, '김유신')]\n",
        "\n",
        "# 키 200에 해당하는 값을 가져오기\n",
        "person.get(200) # '강감찬'\n",
        "\n",
        "# 키 100의 항목을 딕셔너리에서 삭제\n",
        "del(person[100])\n",
        "\n",
        "# 삭제 이후 딕셔너리 출력\n",
        "print(person) # {200: '강감찬', 300: '김유신'}"
      ],
      "metadata": {
        "colab": {
          "base_uri": "https://localhost:8080/"
        },
        "id": "zXYOjb0NtciC",
        "outputId": "0ac15669-d3fd-4d29-a735-ab51ccdca215"
      },
      "execution_count": 12,
      "outputs": [
        {
          "output_type": "stream",
          "name": "stdout",
          "text": [
            "{200: '강감찬', 300: '김유신'}\n"
          ]
        }
      ]
    },
    {
      "cell_type": "code",
      "source": [],
      "metadata": {
        "id": "xdcKDMj0tcf3"
      },
      "execution_count": null,
      "outputs": []
    },
    {
      "cell_type": "code",
      "source": [],
      "metadata": {
        "id": "rxZARNtstcdj"
      },
      "execution_count": null,
      "outputs": []
    },
    {
      "cell_type": "markdown",
      "source": [
        "### 6.  다음은 채팅 앱에 친구를 등록하고 이름으로 검색한 후 연락처를 출력하는 프로그램이다. 다음 실행 결과와 같이 출력되도록 빈칸에 알맞은 코드로 완성하시오.\n",
        "\n",
        "- 딕셔너리 자료구조를 사용하여 친구의 이름과 연락처를 저장한다(임의대로).\n",
        "\n",
        "- 딕셔너리에서 전체 친구의 이름만 검색하여 리스트로 변환한 후 출력한다.\n",
        "\n",
        "- 찾는 친구가 있으면 연락처를 출력하고, 없으면 오류 메시지를 출력한다.\n",
        "\n",
        "- 찾는 친구의 이름은 사용자로부터 입력받아 처리한다.\n",
        "\n"
      ],
      "metadata": {
        "id": "76W7rHoNyi45"
      }
    },
    {
      "cell_type": "code",
      "source": [
        "# 빈 딕셔너리 생성\n",
        "addr={}\n",
        "\n",
        "# 이름과 연락처를 딕셔너리에 추가\n",
        "addr['이순신']='010-1111-1234'\n",
        "addr['강감찬']='010-2222-1234'\n",
        "addr['김유신']='010-3333-1234'\n",
        "addr['안중근']='010-4444-1234'\n",
        "addr['유관순']='010-5555-1234'\n",
        "\n",
        "# 등록된 친구들의 이름만 리스트 형태로 출력\n",
        "print(list(addr.keys()))\n",
        "print() # 줄바꿈\n",
        "\n",
        "# 찾는 친구\n",
        "name=input('찾는 이름 : ')\n",
        "print(addr.get(name,'없는 이름'))"
      ],
      "metadata": {
        "colab": {
          "base_uri": "https://localhost:8080/"
        },
        "id": "XuLzHhFEyh3P",
        "outputId": "4195d647-da62-4be4-ed0d-fc81160aedd7"
      },
      "execution_count": 13,
      "outputs": [
        {
          "output_type": "stream",
          "name": "stdout",
          "text": [
            "['이순신', '강감찬', '김유신', '안중근', '유관순']\n",
            "\n",
            "찾는 이름 : 김유신\n",
            "010-3333-1234\n"
          ]
        }
      ]
    },
    {
      "cell_type": "code",
      "source": [],
      "metadata": {
        "id": "DM3DWRouyh1E"
      },
      "execution_count": null,
      "outputs": []
    },
    {
      "cell_type": "markdown",
      "source": [
        "### 7번"
      ],
      "metadata": {
        "id": "iRuNRGWz0cWY"
      }
    },
    {
      "cell_type": "code",
      "source": [
        "# 두 개의 동아리(A, B)에 속한 학생들을 set 자료형으로 정의\n",
        "clubA = {'김유신', '이순신', '강감찬'}\n",
        "clubB = {'이순신', '계백', '최영'}\n",
        "\n",
        "# 합집합\n",
        "clubC=clubA.union(clubB)\n",
        "print(clubC) # {'강감찬', '최영', '김유신', '계백', '이순신'}\n",
        "\n",
        "# 교집합\n",
        "print(clubA.intersection(clubB)) # {'이순신'}\n",
        "\n",
        "# 차집합(A에는 있지만 B에는 없는 학생)\n",
        "print(clubA.difference(clubB)) # {'강감찬', '김유신'}\n",
        "\n",
        "# 차집합 (B에는 있지만 A에는 없는 학생)\n",
        "print(clubB.difference(clubA)) # {'계백', '최영'}\n",
        "\n",
        "# A 동아리에 '이황'을 추가\n",
        "clubA.add('이황')\n",
        "clubA # {'강감찬', '김유신', '이순신', '이황'}\n",
        "\n",
        "# B 동아리에서 '계백'을 제거\n",
        "clubB.remove('계백')\n",
        "clubB # {'이순신', '최영'}\n",
        "\n",
        "# 최종 출력\n",
        "print('A동아리:',clubA)\n",
        "print('B동아리:',clubB)"
      ],
      "metadata": {
        "colab": {
          "base_uri": "https://localhost:8080/"
        },
        "id": "8xrctGWUyhyV",
        "outputId": "65d73898-bd5f-47e4-f08a-a34574306858"
      },
      "execution_count": 17,
      "outputs": [
        {
          "output_type": "stream",
          "name": "stdout",
          "text": [
            "{'이순신', '김유신', '최영', '강감찬', '계백'}\n",
            "{'이순신'}\n",
            "{'김유신', '강감찬'}\n",
            "{'최영', '계백'}\n",
            "A동아리: {'이순신', '김유신', '강감찬', '이황'}\n",
            "B동아리: {'최영', '이순신'}\n"
          ]
        }
      ]
    },
    {
      "cell_type": "markdown",
      "source": [
        "### 8번"
      ],
      "metadata": {
        "id": "2F41oID60emg"
      }
    },
    {
      "cell_type": "code",
      "source": [
        "food=['사과','바나나','초콜렛','디저트','멜론','샤인머스켓']\n",
        "result= [ i for i in food if len(i) == 3 ]\n",
        "print(result)"
      ],
      "metadata": {
        "colab": {
          "base_uri": "https://localhost:8080/"
        },
        "id": "E_mFvvMN0fqL",
        "outputId": "9bd7419b-2ecb-4871-e67a-dac133a0cc4c"
      },
      "execution_count": 18,
      "outputs": [
        {
          "output_type": "stream",
          "name": "stdout",
          "text": [
            "['바나나', '초콜렛', '디저트']\n"
          ]
        }
      ]
    },
    {
      "cell_type": "code",
      "source": [],
      "metadata": {
        "id": "C1OiduVF0gAu"
      },
      "execution_count": null,
      "outputs": []
    },
    {
      "cell_type": "markdown",
      "source": [
        "### 9번"
      ],
      "metadata": {
        "id": "9Ek0xHR50haS"
      }
    },
    {
      "cell_type": "code",
      "source": [],
      "metadata": {
        "id": "0EyjVcI_0jkH"
      },
      "execution_count": null,
      "outputs": []
    },
    {
      "cell_type": "code",
      "source": [],
      "metadata": {
        "id": "aAASgBKK0jmb"
      },
      "execution_count": null,
      "outputs": []
    },
    {
      "cell_type": "markdown",
      "source": [
        "### 10번"
      ],
      "metadata": {
        "id": "TnHCy2ve0kDQ"
      }
    },
    {
      "cell_type": "code",
      "source": [],
      "metadata": {
        "id": "iq0sLBjl0lrU"
      },
      "execution_count": null,
      "outputs": []
    },
    {
      "cell_type": "code",
      "source": [],
      "metadata": {
        "id": "_v7taLZU0lwp"
      },
      "execution_count": null,
      "outputs": []
    },
    {
      "cell_type": "code",
      "source": [],
      "metadata": {
        "id": "4MgEVWLT0luL"
      },
      "execution_count": null,
      "outputs": []
    },
    {
      "cell_type": "markdown",
      "source": [
        "### 11번"
      ],
      "metadata": {
        "id": "sSdaZCX-0mL_"
      }
    },
    {
      "cell_type": "code",
      "source": [],
      "metadata": {
        "id": "FmYSn_kH0nfq"
      },
      "execution_count": null,
      "outputs": []
    },
    {
      "cell_type": "code",
      "source": [],
      "metadata": {
        "id": "HlSjGm8f0nxk"
      },
      "execution_count": null,
      "outputs": []
    },
    {
      "cell_type": "markdown",
      "source": [
        "### 12번"
      ],
      "metadata": {
        "id": "BSzJ1m2B0n-9"
      }
    },
    {
      "cell_type": "code",
      "source": [],
      "metadata": {
        "id": "8MsR8Jxf0p1G"
      },
      "execution_count": null,
      "outputs": []
    },
    {
      "cell_type": "markdown",
      "source": [
        "### 13번"
      ],
      "metadata": {
        "id": "l1xrEE9P0qGl"
      }
    },
    {
      "cell_type": "code",
      "source": [],
      "metadata": {
        "id": "tN9bU64W0p3s"
      },
      "execution_count": null,
      "outputs": []
    },
    {
      "cell_type": "code",
      "source": [],
      "metadata": {
        "id": "swB-gIE40sE7"
      },
      "execution_count": null,
      "outputs": []
    },
    {
      "cell_type": "markdown",
      "source": [
        "### 14번"
      ],
      "metadata": {
        "id": "mDQn_vMX0sOx"
      }
    },
    {
      "cell_type": "code",
      "source": [],
      "metadata": {
        "id": "M-rveu270uJa"
      },
      "execution_count": null,
      "outputs": []
    },
    {
      "cell_type": "code",
      "source": [],
      "metadata": {
        "id": "_igIW04h0ua6"
      },
      "execution_count": null,
      "outputs": []
    }
  ]
}