{
  "nbformat": 4,
  "nbformat_minor": 0,
  "metadata": {
    "colab": {
      "provenance": [],
      "mount_file_id": "1F_ZN4LK7dfkNf5JaXVCPBHeawdB2TeW7",
      "authorship_tag": "ABX9TyNVBSXJpGNOfUWLXcGvjYaH",
      "include_colab_link": true
    },
    "kernelspec": {
      "name": "python3",
      "display_name": "Python 3"
    },
    "language_info": {
      "name": "python"
    }
  },
  "cells": [
    {
      "cell_type": "markdown",
      "metadata": {
        "id": "view-in-github",
        "colab_type": "text"
      },
      "source": [
        "<a href=\"https://colab.research.google.com/github/among5094/Big-Data-Integrated-Analysis/blob/main/week14_CH12_%ED%85%8D%EC%8A%A4%ED%8A%B8%EB%A1%9C_%EC%9D%BD%EB%8A%94%EC%84%B8%EC%83%81/week14_CH12_%ED%85%8D%EC%8A%A4%ED%8A%B8%EB%A1%9C_%EC%9D%BD%EB%8A%94%EC%84%B8%EC%83%81.ipynb\" target=\"_parent\"><img src=\"https://colab.research.google.com/assets/colab-badge.svg\" alt=\"Open In Colab\"/></a>"
      ]
    },
    {
      "cell_type": "markdown",
      "source": [
        "## CH12 텍스트로 읽는 세상\n",
        "\n",
        "날짜: 06월 09일 월요일\n"
      ],
      "metadata": {
        "id": "d3i9NXSK09_m"
      }
    },
    {
      "cell_type": "markdown",
      "source": [
        "### CH12.01 자연어 처리"
      ],
      "metadata": {
        "id": "F5evbMd33x3X"
      }
    },
    {
      "cell_type": "code",
      "source": [
        "!pip install konlpy"
      ],
      "metadata": {
        "colab": {
          "base_uri": "https://localhost:8080/"
        },
        "id": "8iSoKkiN0-SM",
        "outputId": "387cc6d6-66e0-46f3-e15a-35f22d1ecd29"
      },
      "execution_count": 1,
      "outputs": [
        {
          "output_type": "stream",
          "name": "stdout",
          "text": [
            "Collecting konlpy\n",
            "  Downloading konlpy-0.6.0-py2.py3-none-any.whl.metadata (1.9 kB)\n",
            "Collecting JPype1>=0.7.0 (from konlpy)\n",
            "  Downloading jpype1-1.5.2-cp311-cp311-manylinux_2_17_x86_64.manylinux2014_x86_64.whl.metadata (4.9 kB)\n",
            "Requirement already satisfied: lxml>=4.1.0 in /usr/local/lib/python3.11/dist-packages (from konlpy) (5.4.0)\n",
            "Requirement already satisfied: numpy>=1.6 in /usr/local/lib/python3.11/dist-packages (from konlpy) (2.0.2)\n",
            "Requirement already satisfied: packaging in /usr/local/lib/python3.11/dist-packages (from JPype1>=0.7.0->konlpy) (24.2)\n",
            "Downloading konlpy-0.6.0-py2.py3-none-any.whl (19.4 MB)\n",
            "\u001b[2K   \u001b[90m━━━━━━━━━━━━━━━━━━━━━━━━━━━━━━━━━━━━━━━━\u001b[0m \u001b[32m19.4/19.4 MB\u001b[0m \u001b[31m21.4 MB/s\u001b[0m eta \u001b[36m0:00:00\u001b[0m\n",
            "\u001b[?25hDownloading jpype1-1.5.2-cp311-cp311-manylinux_2_17_x86_64.manylinux2014_x86_64.whl (494 kB)\n",
            "\u001b[2K   \u001b[90m━━━━━━━━━━━━━━━━━━━━━━━━━━━━━━━━━━━━━━━━\u001b[0m \u001b[32m494.1/494.1 kB\u001b[0m \u001b[31m17.3 MB/s\u001b[0m eta \u001b[36m0:00:00\u001b[0m\n",
            "\u001b[?25hInstalling collected packages: JPype1, konlpy\n",
            "Successfully installed JPype1-1.5.2 konlpy-0.6.0\n"
          ]
        }
      ]
    },
    {
      "cell_type": "code",
      "source": [
        "!pip install wordcloud"
      ],
      "metadata": {
        "colab": {
          "base_uri": "https://localhost:8080/"
        },
        "id": "A7olY5M20-jI",
        "outputId": "e057c509-a41f-480f-c1b9-2e0395f43dff"
      },
      "execution_count": 2,
      "outputs": [
        {
          "output_type": "stream",
          "name": "stdout",
          "text": [
            "Requirement already satisfied: wordcloud in /usr/local/lib/python3.11/dist-packages (1.9.4)\n",
            "Requirement already satisfied: numpy>=1.6.1 in /usr/local/lib/python3.11/dist-packages (from wordcloud) (2.0.2)\n",
            "Requirement already satisfied: pillow in /usr/local/lib/python3.11/dist-packages (from wordcloud) (11.2.1)\n",
            "Requirement already satisfied: matplotlib in /usr/local/lib/python3.11/dist-packages (from wordcloud) (3.10.0)\n",
            "Requirement already satisfied: contourpy>=1.0.1 in /usr/local/lib/python3.11/dist-packages (from matplotlib->wordcloud) (1.3.2)\n",
            "Requirement already satisfied: cycler>=0.10 in /usr/local/lib/python3.11/dist-packages (from matplotlib->wordcloud) (0.12.1)\n",
            "Requirement already satisfied: fonttools>=4.22.0 in /usr/local/lib/python3.11/dist-packages (from matplotlib->wordcloud) (4.58.1)\n",
            "Requirement already satisfied: kiwisolver>=1.3.1 in /usr/local/lib/python3.11/dist-packages (from matplotlib->wordcloud) (1.4.8)\n",
            "Requirement already satisfied: packaging>=20.0 in /usr/local/lib/python3.11/dist-packages (from matplotlib->wordcloud) (24.2)\n",
            "Requirement already satisfied: pyparsing>=2.3.1 in /usr/local/lib/python3.11/dist-packages (from matplotlib->wordcloud) (3.2.3)\n",
            "Requirement already satisfied: python-dateutil>=2.7 in /usr/local/lib/python3.11/dist-packages (from matplotlib->wordcloud) (2.9.0.post0)\n",
            "Requirement already satisfied: six>=1.5 in /usr/local/lib/python3.11/dist-packages (from python-dateutil>=2.7->matplotlib->wordcloud) (1.17.0)\n"
          ]
        }
      ]
    },
    {
      "cell_type": "code",
      "source": [
        "!pip show konlpy"
      ],
      "metadata": {
        "colab": {
          "base_uri": "https://localhost:8080/"
        },
        "id": "A3Er4K7D28VA",
        "outputId": "2e3e1081-16be-494e-c1fc-2260ad1546a6"
      },
      "execution_count": 3,
      "outputs": [
        {
          "output_type": "stream",
          "name": "stdout",
          "text": [
            "Name: konlpy\n",
            "Version: 0.6.0\n",
            "Summary: Python package for Korean natural language processing.\n",
            "Home-page: http://konlpy.org\n",
            "Author: Team KoNLPy\n",
            "Author-email: konlpy@googlegroups.com\n",
            "License: GPL v3\n",
            "Location: /usr/local/lib/python3.11/dist-packages\n",
            "Requires: JPype1, lxml, numpy\n",
            "Required-by: \n"
          ]
        }
      ]
    },
    {
      "cell_type": "code",
      "source": [
        "# Okt 분석기 생성\n",
        "from konlpy.tag import Okt\n",
        "okt = Okt()"
      ],
      "metadata": {
        "id": "iN8DVugu5SNe"
      },
      "execution_count": 4,
      "outputs": []
    },
    {
      "cell_type": "code",
      "source": [
        "# # 형태소 토큰화하기: morphs()\n",
        "token = okt.morphs('달이 참 예쁘다고')\n",
        "print(token)"
      ],
      "metadata": {
        "colab": {
          "base_uri": "https://localhost:8080/"
        },
        "id": "3_B-ukSt5SLK",
        "outputId": "666a9678-0bec-4b02-bd65-292b385fa4b7"
      },
      "execution_count": 6,
      "outputs": [
        {
          "output_type": "stream",
          "name": "stdout",
          "text": [
            "['달이', '참', '예쁘다고']\n"
          ]
        }
      ]
    },
    {
      "cell_type": "code",
      "source": [
        "# 형태소 토큰화하기: pos\n",
        "from konlpy.tag import Okt\n",
        "okt = Okt()\n",
        "\n",
        "sentence_tag = okt.pos('달이 참 예쁘다고')\n",
        "print(sentence_tag)\n",
        "\n",
        "sentence_tag = okt.pos('달이 참 예쁘다고', join=True)\n",
        "print(sentence_tag)"
      ],
      "metadata": {
        "colab": {
          "base_uri": "https://localhost:8080/"
        },
        "id": "3AbHeNTT6bEw",
        "outputId": "63f4d661-595d-40c4-9fa0-94551d5f8420"
      },
      "execution_count": 7,
      "outputs": [
        {
          "output_type": "stream",
          "name": "stdout",
          "text": [
            "[('달이', 'Noun'), ('참', 'Verb'), ('예쁘다고', 'Adjective')]\n",
            "['달이/Noun', '참/Verb', '예쁘다고/Adjective']\n"
          ]
        }
      ]
    },
    {
      "cell_type": "code",
      "source": [
        "# 형태소 토큰화하기: phrases()\n",
        "from konlpy.tag import Okt\n",
        "okt = Okt()\n",
        "\n",
        "sentence = okt.phrases('달이 참 예쁘다고')\n",
        "sentence"
      ],
      "metadata": {
        "colab": {
          "base_uri": "https://localhost:8080/"
        },
        "id": "3b4sv6Vu5SIk",
        "outputId": "db955510-4cd9-4e6c-e78c-b8fc6ed0360c"
      },
      "execution_count": 8,
      "outputs": [
        {
          "output_type": "execute_result",
          "data": {
            "text/plain": [
              "['달이']"
            ]
          },
          "metadata": {},
          "execution_count": 8
        }
      ]
    },
    {
      "cell_type": "markdown",
      "source": [
        "(2) 토큰화 실습"
      ],
      "metadata": {
        "id": "0ifwHy6M6-Ux"
      }
    },
    {
      "cell_type": "code",
      "source": [
        "# pos()로 형태소 분석\n",
        "from konlpy.tag import Okt\n",
        "okt = Okt()\n",
        "\n",
        "text = '이승윤 숨고 싶을 땐 다락이 되어 즐겨야 죽고 싶을 땐 나락이 되어 즐겨야 울고 싶은 만큼 허송 세월 해 즐겨야 진심이 버거울 땐 우리 가면무도회를 열자'\n",
        "sentence_tag = okt.pos(text)  # 형태소 분석하기\n",
        "sentence_tag"
      ],
      "metadata": {
        "colab": {
          "base_uri": "https://localhost:8080/"
        },
        "id": "cakcwzER7REf",
        "outputId": "a56db75a-24ab-4cfd-a466-b7fffd171f4e"
      },
      "execution_count": 10,
      "outputs": [
        {
          "output_type": "execute_result",
          "data": {
            "text/plain": [
              "[('이승윤', 'Noun'),\n",
              " ('숨고', 'Verb'),\n",
              " ('싶을', 'Verb'),\n",
              " ('땐', 'Noun'),\n",
              " ('다락', 'Noun'),\n",
              " ('이', 'Josa'),\n",
              " ('되어', 'Verb'),\n",
              " ('즐겨야', 'Verb'),\n",
              " ('죽고', 'Verb'),\n",
              " ('싶을', 'Verb'),\n",
              " ('땐', 'Noun'),\n",
              " ('나락', 'Noun'),\n",
              " ('이', 'Josa'),\n",
              " ('되어', 'Verb'),\n",
              " ('즐겨야', 'Verb'),\n",
              " ('울', 'Noun'),\n",
              " ('고', 'Josa'),\n",
              " ('싶은', 'Verb'),\n",
              " ('만큼', 'Noun'),\n",
              " ('허송', 'Noun'),\n",
              " ('세월', 'Noun'),\n",
              " ('해', 'Noun'),\n",
              " ('즐겨야', 'Verb'),\n",
              " ('진심', 'Noun'),\n",
              " ('이', 'Josa'),\n",
              " ('버거울', 'Adjective'),\n",
              " ('땐', 'Noun'),\n",
              " ('우리', 'Noun'),\n",
              " ('가면무도회', 'Noun'),\n",
              " ('를', 'Josa'),\n",
              " ('열자', 'Noun')]"
            ]
          },
          "metadata": {},
          "execution_count": 10
        }
      ]
    },
    {
      "cell_type": "code",
      "source": [
        "# collection.counter()로 빈도수 구하기\n",
        "import collections\n",
        "\n",
        "text = '그날 눈사람은 텅 빈 욕조에 누워 있었다. 뜨거운 물을 틀기 전에 그는 더 살아야 하는지 말아야 하는지 곰곰이 생각해 보았다. 더 살아야 할 이유가 없다는 것이 자살의 이유가 될 수는 없었으며 죽어야 할 이유가 없다는 것이 사는 이유 또한 될 수 없었다. 죽어야 할 이유도 없었고 더 살아야 할 이유도 없었다.아무런 이유 없이 텅 빈 욕조에 혼자 누워 있을 때 뜨거운 물과 찬물 중에서 어떤 물을 틀어야 하는 것일까. 눈사람은 그 결과는 같은 것이라고 생각했다. 뜨거운 물에는 빨리 녹고 찬물에는 좀 천천히 녹겠지만 녹아 사라진다는 점에서는 다를 게 없었다.나는 따뜻한 물에 녹고 싶다. 오랫동안 너무 춥게만 살지 않았는가. 눈사람은 온수를 틀고 자신의 몸이 점점 녹아 물이 되는 것을 지켜보다 잠이 들었다. 욕조에서는 무럭무럭 김이 피어올랐다.'\n",
        "\n",
        "sentece_tag = okt.pos(text)\n",
        "sentece_tag\n",
        "\n",
        "adj_list = []\n",
        "for word, tag in sentece_tag:\n",
        "    if tag in ['Noun', 'Adjective']:\n",
        "        adj_list.append(word)\n",
        "\n",
        "counts = collections.Counter(adj_list)\n",
        "tag = counts.most_common(2)\n",
        "\n",
        "print(tag)\n"
      ],
      "metadata": {
        "colab": {
          "base_uri": "https://localhost:8080/"
        },
        "id": "DJSBEzh15tJB",
        "outputId": "7554f6ad-a1c8-4fb7-dfc1-c943664aa80e"
      },
      "execution_count": 12,
      "outputs": [
        {
          "output_type": "stream",
          "name": "stdout",
          "text": [
            "[('이유', 7), ('물', 5)]\n"
          ]
        }
      ]
    },
    {
      "cell_type": "code",
      "source": [],
      "metadata": {
        "id": "pbthlhKk5tGz"
      },
      "execution_count": null,
      "outputs": []
    },
    {
      "cell_type": "code",
      "source": [],
      "metadata": {
        "id": "HAm7siu75tEX"
      },
      "execution_count": null,
      "outputs": []
    },
    {
      "cell_type": "markdown",
      "source": [
        "### CH12.02 워드클라우드"
      ],
      "metadata": {
        "id": "7t0IMbGV3276"
      }
    },
    {
      "cell_type": "markdown",
      "source": [
        "##### (1) 라이브러리 설치"
      ],
      "metadata": {
        "id": "9nSxE5vN_XGS"
      }
    },
    {
      "cell_type": "code",
      "source": [
        "!pip install wordcloud"
      ],
      "metadata": {
        "colab": {
          "base_uri": "https://localhost:8080/"
        },
        "id": "84s9Z8wI28Ro",
        "outputId": "6c78ab0a-666f-4914-fbe3-cb9fc4461335"
      },
      "execution_count": 13,
      "outputs": [
        {
          "output_type": "stream",
          "name": "stdout",
          "text": [
            "Requirement already satisfied: wordcloud in /usr/local/lib/python3.11/dist-packages (1.9.4)\n",
            "Requirement already satisfied: numpy>=1.6.1 in /usr/local/lib/python3.11/dist-packages (from wordcloud) (2.0.2)\n",
            "Requirement already satisfied: pillow in /usr/local/lib/python3.11/dist-packages (from wordcloud) (11.2.1)\n",
            "Requirement already satisfied: matplotlib in /usr/local/lib/python3.11/dist-packages (from wordcloud) (3.10.0)\n",
            "Requirement already satisfied: contourpy>=1.0.1 in /usr/local/lib/python3.11/dist-packages (from matplotlib->wordcloud) (1.3.2)\n",
            "Requirement already satisfied: cycler>=0.10 in /usr/local/lib/python3.11/dist-packages (from matplotlib->wordcloud) (0.12.1)\n",
            "Requirement already satisfied: fonttools>=4.22.0 in /usr/local/lib/python3.11/dist-packages (from matplotlib->wordcloud) (4.58.1)\n",
            "Requirement already satisfied: kiwisolver>=1.3.1 in /usr/local/lib/python3.11/dist-packages (from matplotlib->wordcloud) (1.4.8)\n",
            "Requirement already satisfied: packaging>=20.0 in /usr/local/lib/python3.11/dist-packages (from matplotlib->wordcloud) (24.2)\n",
            "Requirement already satisfied: pyparsing>=2.3.1 in /usr/local/lib/python3.11/dist-packages (from matplotlib->wordcloud) (3.2.3)\n",
            "Requirement already satisfied: python-dateutil>=2.7 in /usr/local/lib/python3.11/dist-packages (from matplotlib->wordcloud) (2.9.0.post0)\n",
            "Requirement already satisfied: six>=1.5 in /usr/local/lib/python3.11/dist-packages (from python-dateutil>=2.7->matplotlib->wordcloud) (1.17.0)\n"
          ]
        }
      ]
    },
    {
      "cell_type": "code",
      "source": [
        "import matplotlib.pyplot as plt"
      ],
      "metadata": {
        "id": "QkjUKAkJ28Pq"
      },
      "execution_count": 14,
      "outputs": []
    },
    {
      "cell_type": "code",
      "source": [
        "!apt-get install fonts-nanum\n",
        "font_path = '/usr/share/fonts/truetype/nanum/NanumBarunGothic.ttf'"
      ],
      "metadata": {
        "colab": {
          "base_uri": "https://localhost:8080/"
        },
        "id": "lkUEcxhL8zfn",
        "outputId": "0f21b36c-e53d-4b3c-f947-f0de678ed3e1"
      },
      "execution_count": 15,
      "outputs": [
        {
          "output_type": "stream",
          "name": "stdout",
          "text": [
            "Reading package lists... Done\n",
            "Building dependency tree... Done\n",
            "Reading state information... Done\n",
            "The following NEW packages will be installed:\n",
            "  fonts-nanum\n",
            "0 upgraded, 1 newly installed, 0 to remove and 35 not upgraded.\n",
            "Need to get 10.3 MB of archives.\n",
            "After this operation, 34.1 MB of additional disk space will be used.\n",
            "Get:1 http://archive.ubuntu.com/ubuntu jammy/universe amd64 fonts-nanum all 20200506-1 [10.3 MB]\n",
            "Fetched 10.3 MB in 0s (38.6 MB/s)\n",
            "Selecting previously unselected package fonts-nanum.\n",
            "(Reading database ... 126111 files and directories currently installed.)\n",
            "Preparing to unpack .../fonts-nanum_20200506-1_all.deb ...\n",
            "Unpacking fonts-nanum (20200506-1) ...\n",
            "Setting up fonts-nanum (20200506-1) ...\n",
            "Processing triggers for fontconfig (2.13.1-4.2ubuntu5) ...\n"
          ]
        }
      ]
    },
    {
      "cell_type": "markdown",
      "source": [
        "##### (2) 한글 글꼴 설치"
      ],
      "metadata": {
        "id": "ZHNbItwc_Nxn"
      }
    },
    {
      "cell_type": "code",
      "source": [
        "import matplotlib.pyplot as plt\n",
        "import matplotlib.font_manager as fm\n",
        "\n",
        "# 폰트 설정\n",
        "font_path = '/usr/share/fonts/truetype/nanum/NanumBarunGothic.ttf'\n",
        "font_name = fm.FontProperties(fname=font_path).get_name()\n",
        "plt.rc('font', family=font_name)"
      ],
      "metadata": {
        "id": "rrZdIhW48zdJ"
      },
      "execution_count": 16,
      "outputs": []
    },
    {
      "cell_type": "markdown",
      "source": [
        "##### (3) 텍스트 가져오기"
      ],
      "metadata": {
        "id": "GFq89Wpl_D2c"
      }
    },
    {
      "cell_type": "code",
      "source": [
        "f = open(\"/content/drive/MyDrive/data/달이참예쁘다고.txt\", 'r')  # 파일 열기\n",
        "str = ''\n",
        "lines = f.readlines()  # 파일의 모든 줄을 읽어오기(리스트로 저장됨)\n",
        "for line in lines:  # 한 줄씩 읽어오기\n",
        "    # print(line)\n",
        "    line = line.strip()  # 줄 바꿈(\\n) 문자 제거\n",
        "    str += line  # 문자열에 계속 추가하기\n",
        "f.close()  # 파일 닫기\n",
        "# print(str)"
      ],
      "metadata": {
        "id": "s_24_t1p8zbF"
      },
      "execution_count": 18,
      "outputs": []
    },
    {
      "cell_type": "markdown",
      "source": [
        "##### (4) 품사 태깅하기"
      ],
      "metadata": {
        "id": "I4OGWnlt-9EO"
      }
    },
    {
      "cell_type": "code",
      "source": [
        "# 품사를 태깅하여 명사와 형용사 형태소만 추출하기\n",
        "sentece_tag = okt.pos(str)  # 형태소 분석하기\n",
        "sentece_tag"
      ],
      "metadata": {
        "colab": {
          "base_uri": "https://localhost:8080/"
        },
        "id": "puk3Kg1S8zYw",
        "outputId": "35686da3-6190-4417-c4f6-df98582da765"
      },
      "execution_count": 19,
      "outputs": [
        {
          "output_type": "execute_result",
          "data": {
            "text/plain": [
              "[('이승윤', 'Noun'),\n",
              " ('밤', 'Noun'),\n",
              " ('하늘', 'Noun'),\n",
              " ('빛나는', 'Verb'),\n",
              " ('수만', 'Noun'),\n",
              " ('가지', 'Noun'),\n",
              " ('것', 'Noun'),\n",
              " ('들', 'Suffix'),\n",
              " ('이', 'Josa'),\n",
              " ('이미', 'Adverb'),\n",
              " ('죽어', 'Verb'),\n",
              " ('버린', 'Verb'),\n",
              " ('행성', 'Noun'),\n",
              " ('의', 'Josa'),\n",
              " ('잔', 'Noun'),\n",
              " ('해라면', 'Verb'),\n",
              " ('고개', 'Noun'),\n",
              " ('를', 'Josa'),\n",
              " ('들어', 'Verb'),\n",
              " ('경의', 'Noun'),\n",
              " ('를', 'Josa'),\n",
              " ('표', 'Noun'),\n",
              " ('하기', 'Verb'),\n",
              " ('보단', 'Verb'),\n",
              " ('허리', 'Noun'),\n",
              " ('를', 'Josa'),\n",
              " ('숙여', 'Verb'),\n",
              " ('흙', 'Noun'),\n",
              " ('을', 'Josa'),\n",
              " ('한', 'Verb'),\n",
              " ('웅큼', 'Noun'),\n",
              " ('집어', 'Verb'),\n",
              " ('들래', 'Verb'),\n",
              " ('방', 'Noun'),\n",
              " ('안', 'Noun'),\n",
              " ('에', 'Josa'),\n",
              " ('가득히', 'Adjective'),\n",
              " ('내', 'Noun'),\n",
              " ('가', 'Josa'),\n",
              " ('사랑', 'Noun'),\n",
              " ('을', 'Josa'),\n",
              " ('했던', 'Verb'),\n",
              " ('사람', 'Noun'),\n",
              " ('들', 'Suffix'),\n",
              " ('이', 'Josa'),\n",
              " ('액자', 'Noun'),\n",
              " ('안', 'Noun'),\n",
              " ('에서', 'Josa'),\n",
              " ('빛나고', 'Verb'),\n",
              " ('있어', 'Adjective'),\n",
              " ('죽어서', 'Verb'),\n",
              " ('이름', 'Noun'),\n",
              " ('을', 'Josa'),\n",
              " ('어딘가', 'Noun'),\n",
              " ('남기기', 'Verb'),\n",
              " ('보단', 'Verb'),\n",
              " ('살아서', 'Verb'),\n",
              " ('그', 'Noun'),\n",
              " ('들', 'Suffix'),\n",
              " ('의', 'Josa'),\n",
              " ('이름', 'Noun'),\n",
              " ('을', 'Josa'),\n",
              " ('한번', 'Noun'),\n",
              " ('더', 'Noun'),\n",
              " ('불러', 'Verb'),\n",
              " ('볼', 'Noun'),\n",
              " ('래', 'Josa'),\n",
              " ('위대한', 'Adjective'),\n",
              " ('공식', 'Noun'),\n",
              " ('이', 'Josa'),\n",
              " ('길게', 'Adjective'),\n",
              " ('늘어서', 'Verb'),\n",
              " ('있는', 'Adjective'),\n",
              " ('거대한', 'Adjective'),\n",
              " ('시공', 'Noun'),\n",
              " ('에', 'Josa'),\n",
              " ('짧은', 'Adjective'),\n",
              " ('문장', 'Noun'),\n",
              " ('을', 'Josa'),\n",
              " ('새겨', 'Verb'),\n",
              " ('보곤', 'Verb'),\n",
              " ('해너', 'Noun'),\n",
              " ('와', 'Josa'),\n",
              " ('나', 'Noun'),\n",
              " ('또', 'Noun'),\n",
              " ('몇몇', 'Noun'),\n",
              " ('의', 'Josa'),\n",
              " ('이름', 'Noun'),\n",
              " ('두어', 'Modifier'),\n",
              " ('가지', 'Noun'),\n",
              " ('마음', 'Noun'),\n",
              " ('까지', 'Josa'),\n",
              " ('영원히', 'Adjective'),\n",
              " ('노', 'Noun'),\n",
              " ('를', 'Josa'),\n",
              " ('저을', 'Noun'),\n",
              " ('순', 'Noun'),\n",
              " ('없지만', 'Adjective'),\n",
              " ('몇', 'Noun'),\n",
              " ('분', 'Noun'),\n",
              " ('짜리', 'Verb'),\n",
              " ('노랠', 'Adjective'),\n",
              " ('지을', 'Verb'),\n",
              " ('수', 'Noun'),\n",
              " ('있어', 'Adjective'),\n",
              " ('서수만', 'Noun'),\n",
              " ('광년', 'Noun'),\n",
              " ('의', 'Josa'),\n",
              " ('일렁임', 'Noun'),\n",
              " ('을', 'Josa'),\n",
              " ('거두어', 'Verb'),\n",
              " ('지금', 'Noun'),\n",
              " ('을', 'Josa'),\n",
              " ('네', 'Noun'),\n",
              " ('게', 'Josa'),\n",
              " ('들려', 'Verb'),\n",
              " ('줄거야', 'Verb'),\n",
              " ('달이', 'Noun'),\n",
              " ('참', 'Verb'),\n",
              " ('예쁘다', 'Adjective'),\n",
              " ('숨고', 'Verb'),\n",
              " ('싶을', 'Verb'),\n",
              " ('땐', 'Noun'),\n",
              " ('다락', 'Noun'),\n",
              " ('이', 'Josa'),\n",
              " ('되어', 'Verb'),\n",
              " ('줄거야', 'Verb'),\n",
              " ('죽고', 'Verb'),\n",
              " ('싶을', 'Verb'),\n",
              " ('땐', 'Noun'),\n",
              " ('나락', 'Noun'),\n",
              " ('이', 'Josa'),\n",
              " ('되어', 'Verb'),\n",
              " ('줄거야울고', 'Verb'),\n",
              " ('싶은만큼', 'Verb'),\n",
              " ('허송', 'Noun'),\n",
              " ('세월', 'Noun'),\n",
              " ('해', 'Noun'),\n",
              " ('줄거야', 'Verb'),\n",
              " ('진심', 'Noun'),\n",
              " ('이', 'Josa'),\n",
              " ('버거울', 'Adjective'),\n",
              " ('땐', 'Noun'),\n",
              " ('우리', 'Noun'),\n",
              " ('가면', 'Noun'),\n",
              " ('무도회', 'Noun'),\n",
              " ('를', 'Josa'),\n",
              " ('열자', 'Noun'),\n",
              " ('달', 'Noun'),\n",
              " ('위', 'Noun'),\n",
              " ('에다', 'Josa'),\n",
              " ('발자국', 'Noun'),\n",
              " ('을', 'Josa'),\n",
              " ('남기고', 'Verb'),\n",
              " ('싶진', 'Verb'),\n",
              " ('않아', 'Verb'),\n",
              " ('단지', 'Noun'),\n",
              " ('너', 'Noun'),\n",
              " ('와', 'Josa'),\n",
              " ('발', 'Noun'),\n",
              " ('맞추어', 'Verb'),\n",
              " ('걷고', 'Verb'),\n",
              " ('싶었어', 'Verb'),\n",
              " ('닻', 'Noun'),\n",
              " ('이', 'Josa'),\n",
              " ('닫지', 'Verb'),\n",
              " ('않는', 'Verb'),\n",
              " ('바다', 'Noun'),\n",
              " ('의', 'Josa'),\n",
              " ('바닥', 'Noun'),\n",
              " ('이라도', 'Josa'),\n",
              " ('영원히', 'Adjective'),\n",
              " ('노', 'Noun'),\n",
              " ('를', 'Josa'),\n",
              " ('저을', 'Noun'),\n",
              " ('순', 'Noun'),\n",
              " ('없지만', 'Adjective'),\n",
              " ('몇', 'Noun'),\n",
              " ('분', 'Noun'),\n",
              " ('짜리', 'Verb'),\n",
              " ('노랠', 'Adjective'),\n",
              " ('지을', 'Verb'),\n",
              " ('수', 'Noun'),\n",
              " ('있어', 'Adjective'),\n",
              " ('서수만', 'Noun'),\n",
              " ('광년', 'Noun'),\n",
              " ('의', 'Josa'),\n",
              " ('일렁임', 'Noun'),\n",
              " ('을', 'Josa'),\n",
              " ('거두어', 'Verb'),\n",
              " ('지금', 'Noun'),\n",
              " ('을', 'Josa'),\n",
              " ('네', 'Noun'),\n",
              " ('게', 'Josa'),\n",
              " ('들려', 'Verb'),\n",
              " ('줄거야', 'Verb'),\n",
              " ('달이', 'Noun'),\n",
              " ('참', 'Verb'),\n",
              " ('예쁘다고', 'Adjective')]"
            ]
          },
          "metadata": {},
          "execution_count": 19
        }
      ]
    },
    {
      "cell_type": "code",
      "source": [
        "sentece_tag = okt.pos(str)  # 형태소 분석하기\n",
        "sentece_tag\n",
        "\n",
        "adj_list = []\n",
        "for word, tag in sentece_tag:\n",
        "    if tag in ['Noun', 'Adjective']:\n",
        "        adj_list.append(word)\n",
        "\n",
        "# 10개 출력하기\n",
        "adj_list[:10]"
      ],
      "metadata": {
        "colab": {
          "base_uri": "https://localhost:8080/"
        },
        "id": "hbQHP3nr8zWc",
        "outputId": "8cf72477-db0e-4eff-d3d9-41e7341ac1de"
      },
      "execution_count": 20,
      "outputs": [
        {
          "output_type": "execute_result",
          "data": {
            "text/plain": [
              "['이승윤', '밤', '하늘', '수만', '가지', '것', '행성', '잔', '고개', '경의']"
            ]
          },
          "metadata": {},
          "execution_count": 20
        }
      ]
    },
    {
      "cell_type": "markdown",
      "source": [
        "##### (5) 동일한 단어의 빈도수 구하기"
      ],
      "metadata": {
        "id": "ar1tqXtD-trc"
      }
    },
    {
      "cell_type": "code",
      "source": [
        "# 동일한 단어 빈도수 구하기\n",
        "counts = collections.Counter(adj_list)\n",
        "tag = counts.most_common(10)\n",
        "tag"
      ],
      "metadata": {
        "colab": {
          "base_uri": "https://localhost:8080/"
        },
        "id": "4FGkLBsT8zT_",
        "outputId": "25fe16a0-f8ba-4c44-c7c6-68c0ebb3ca0c"
      },
      "execution_count": 21,
      "outputs": [
        {
          "output_type": "execute_result",
          "data": {
            "text/plain": [
              "[('있어', 3),\n",
              " ('이름', 3),\n",
              " ('땐', 3),\n",
              " ('가지', 2),\n",
              " ('안', 2),\n",
              " ('영원히', 2),\n",
              " ('노', 2),\n",
              " ('저을', 2),\n",
              " ('순', 2),\n",
              " ('없지만', 2)]"
            ]
          },
          "metadata": {},
          "execution_count": 21
        }
      ]
    },
    {
      "cell_type": "markdown",
      "source": [
        "##### (6) wordcloud 생성"
      ],
      "metadata": {
        "id": "nw2NYlOX-Swp"
      }
    },
    {
      "cell_type": "code",
      "source": [
        "# 워드클라우드 생성\n",
        "from wordcloud import WordCloud\n",
        "\n",
        "wc = WordCloud(font_path=font_path, background_color='skyblue', max_font_size=60)\n",
        "cloud = wc.generate_from_frequencies(dict(tag))\n"
      ],
      "metadata": {
        "id": "M9DsfL_j9eYP"
      },
      "execution_count": 22,
      "outputs": []
    },
    {
      "cell_type": "markdown",
      "source": [
        "##### (7) matplotlib으로 시각화하기"
      ],
      "metadata": {
        "id": "1jG-pS-o-P7M"
      }
    },
    {
      "cell_type": "code",
      "source": [
        "import matplotlib.pyplot as plt\n",
        "plt.figure(figsize=(10, 8))\n",
        "plt.imshow(cloud)"
      ],
      "metadata": {
        "colab": {
          "base_uri": "https://localhost:8080/",
          "height": 1000
        },
        "id": "upoH2ky19eWD",
        "outputId": "f4fc94de-ced7-4f70-ed29-c7b31a653ef5"
      },
      "execution_count": 23,
      "outputs": [
        {
          "output_type": "execute_result",
          "data": {
            "text/plain": [
              "<matplotlib.image.AxesImage at 0x787a3a6432d0>"
            ]
          },
          "metadata": {},
          "execution_count": 23
        },
        {
          "output_type": "stream",
          "name": "stderr",
          "text": [
            "WARNING:matplotlib.font_manager:findfont: Font family 'NanumBarunGothic' not found.\n",
            "WARNING:matplotlib.font_manager:findfont: Font family 'NanumBarunGothic' not found.\n",
            "WARNING:matplotlib.font_manager:findfont: Font family 'NanumBarunGothic' not found.\n",
            "WARNING:matplotlib.font_manager:findfont: Font family 'NanumBarunGothic' not found.\n",
            "WARNING:matplotlib.font_manager:findfont: Font family 'NanumBarunGothic' not found.\n",
            "WARNING:matplotlib.font_manager:findfont: Font family 'NanumBarunGothic' not found.\n",
            "WARNING:matplotlib.font_manager:findfont: Font family 'NanumBarunGothic' not found.\n",
            "WARNING:matplotlib.font_manager:findfont: Font family 'NanumBarunGothic' not found.\n",
            "WARNING:matplotlib.font_manager:findfont: Font family 'NanumBarunGothic' not found.\n",
            "WARNING:matplotlib.font_manager:findfont: Font family 'NanumBarunGothic' not found.\n",
            "WARNING:matplotlib.font_manager:findfont: Font family 'NanumBarunGothic' not found.\n",
            "WARNING:matplotlib.font_manager:findfont: Font family 'NanumBarunGothic' not found.\n",
            "WARNING:matplotlib.font_manager:findfont: Font family 'NanumBarunGothic' not found.\n",
            "WARNING:matplotlib.font_manager:findfont: Font family 'NanumBarunGothic' not found.\n",
            "WARNING:matplotlib.font_manager:findfont: Font family 'NanumBarunGothic' not found.\n",
            "WARNING:matplotlib.font_manager:findfont: Font family 'NanumBarunGothic' not found.\n",
            "WARNING:matplotlib.font_manager:findfont: Font family 'NanumBarunGothic' not found.\n",
            "WARNING:matplotlib.font_manager:findfont: Font family 'NanumBarunGothic' not found.\n",
            "WARNING:matplotlib.font_manager:findfont: Font family 'NanumBarunGothic' not found.\n",
            "WARNING:matplotlib.font_manager:findfont: Font family 'NanumBarunGothic' not found.\n",
            "WARNING:matplotlib.font_manager:findfont: Font family 'NanumBarunGothic' not found.\n",
            "WARNING:matplotlib.font_manager:findfont: Font family 'NanumBarunGothic' not found.\n",
            "WARNING:matplotlib.font_manager:findfont: Font family 'NanumBarunGothic' not found.\n",
            "WARNING:matplotlib.font_manager:findfont: Font family 'NanumBarunGothic' not found.\n",
            "WARNING:matplotlib.font_manager:findfont: Font family 'NanumBarunGothic' not found.\n",
            "WARNING:matplotlib.font_manager:findfont: Font family 'NanumBarunGothic' not found.\n",
            "WARNING:matplotlib.font_manager:findfont: Font family 'NanumBarunGothic' not found.\n",
            "WARNING:matplotlib.font_manager:findfont: Font family 'NanumBarunGothic' not found.\n",
            "WARNING:matplotlib.font_manager:findfont: Font family 'NanumBarunGothic' not found.\n",
            "WARNING:matplotlib.font_manager:findfont: Font family 'NanumBarunGothic' not found.\n",
            "WARNING:matplotlib.font_manager:findfont: Font family 'NanumBarunGothic' not found.\n",
            "WARNING:matplotlib.font_manager:findfont: Font family 'NanumBarunGothic' not found.\n",
            "WARNING:matplotlib.font_manager:findfont: Font family 'NanumBarunGothic' not found.\n",
            "WARNING:matplotlib.font_manager:findfont: Font family 'NanumBarunGothic' not found.\n",
            "WARNING:matplotlib.font_manager:findfont: Font family 'NanumBarunGothic' not found.\n",
            "WARNING:matplotlib.font_manager:findfont: Font family 'NanumBarunGothic' not found.\n",
            "WARNING:matplotlib.font_manager:findfont: Font family 'NanumBarunGothic' not found.\n",
            "WARNING:matplotlib.font_manager:findfont: Font family 'NanumBarunGothic' not found.\n",
            "WARNING:matplotlib.font_manager:findfont: Font family 'NanumBarunGothic' not found.\n",
            "WARNING:matplotlib.font_manager:findfont: Font family 'NanumBarunGothic' not found.\n",
            "WARNING:matplotlib.font_manager:findfont: Font family 'NanumBarunGothic' not found.\n",
            "WARNING:matplotlib.font_manager:findfont: Font family 'NanumBarunGothic' not found.\n",
            "WARNING:matplotlib.font_manager:findfont: Font family 'NanumBarunGothic' not found.\n",
            "WARNING:matplotlib.font_manager:findfont: Font family 'NanumBarunGothic' not found.\n",
            "WARNING:matplotlib.font_manager:findfont: Font family 'NanumBarunGothic' not found.\n",
            "WARNING:matplotlib.font_manager:findfont: Font family 'NanumBarunGothic' not found.\n",
            "WARNING:matplotlib.font_manager:findfont: Font family 'NanumBarunGothic' not found.\n",
            "WARNING:matplotlib.font_manager:findfont: Font family 'NanumBarunGothic' not found.\n",
            "WARNING:matplotlib.font_manager:findfont: Font family 'NanumBarunGothic' not found.\n",
            "WARNING:matplotlib.font_manager:findfont: Font family 'NanumBarunGothic' not found.\n",
            "WARNING:matplotlib.font_manager:findfont: Font family 'NanumBarunGothic' not found.\n",
            "WARNING:matplotlib.font_manager:findfont: Font family 'NanumBarunGothic' not found.\n",
            "WARNING:matplotlib.font_manager:findfont: Font family 'NanumBarunGothic' not found.\n",
            "WARNING:matplotlib.font_manager:findfont: Font family 'NanumBarunGothic' not found.\n",
            "WARNING:matplotlib.font_manager:findfont: Font family 'NanumBarunGothic' not found.\n",
            "WARNING:matplotlib.font_manager:findfont: Font family 'NanumBarunGothic' not found.\n",
            "WARNING:matplotlib.font_manager:findfont: Font family 'NanumBarunGothic' not found.\n",
            "WARNING:matplotlib.font_manager:findfont: Font family 'NanumBarunGothic' not found.\n"
          ]
        },
        {
          "output_type": "display_data",
          "data": {
            "text/plain": [
              "<Figure size 1000x800 with 1 Axes>"
            ],
            "image/png": "[encoded data removed]"
          },
          "metadata": {}
        }
      ]
    },
    {
      "cell_type": "code",
      "source": [],
      "metadata": {
        "id": "MdkQniwt9eTv"
      },
      "execution_count": null,
      "outputs": []
    },
    {
      "cell_type": "markdown",
      "source": [
        "### CH12.03 자연어 처리 실습\n",
        "- 뉴스기사로 워드클라우드 만들기"
      ],
      "metadata": {
        "id": "zBKwtVC638aW"
      }
    },
    {
      "cell_type": "markdown",
      "source": [
        "##### (1) 필요한 라이브러리 불러오기"
      ],
      "metadata": {
        "id": "gjKYXhqY_61Q"
      }
    },
    {
      "cell_type": "code",
      "source": [
        "import pandas as pd\n",
        "import matplotlib.pyplot as plt\n",
        "import collections\n",
        "from wordcloud import WordCloud"
      ],
      "metadata": {
        "id": "FNvXlTeS28NP"
      },
      "execution_count": 24,
      "outputs": []
    },
    {
      "cell_type": "markdown",
      "source": [
        "##### (2) 데이터 읽어오기"
      ],
      "metadata": {
        "id": "C71nLQBLAXWU"
      }
    },
    {
      "cell_type": "code",
      "source": [
        "df=pd.read_excel('/content/drive/MyDrive/data/chap12_실습2.xlsx')\n",
        "df.head()"
      ],
      "metadata": {
        "colab": {
          "base_uri": "https://localhost:8080/",
          "height": 206
        },
        "id": "BE18G97bAOFW",
        "outputId": "0002b2a8-c93c-4093-fb92-bc4b2a5722b3"
      },
      "execution_count": 25,
      "outputs": [
        {
          "output_type": "execute_result",
          "data": {
            "text/plain": [
              "         일자     언론사                                                 본문\n",
              "0  20220924  파이낸셜뉴스  9월 30일부터 10월 2일까지 갓바위문화타운 일원에서 열려 \\n \\n \\n【파이낸...\n",
              "1  20220923    한국일보  정부가 야외에서의 마스크 착용 의무를 26일부터 전면 해제한다고 밝히면서 내달 열리...\n",
              "2  20220923    한국일보  야외 공연 즐기기 좋은 가을철을 맞아 대형 음악 축제가 이어진다. 팬데믹 기간 정상...\n",
              "3  20220922  광주매일신문  우리나라 대중음악을 빛내는 별들이 ‘목포뮤직플레이’에 대거 출연해 목포의 가을을 장...\n",
              "4  20220921    경향신문  50대 여성 A씨는 지난 8일 유명 트로트 가수의 티켓을 판매한다는 게시글을 중고품..."
            ],
            "text/html": [
              "\n",
              "  <div id=\"df-a19ffa05-e626-4da5-989a-c51b2be9b9c4\" class=\"colab-df-container\">\n",
              "    <div>\n",
              "<style scoped>\n",
              "    .dataframe tbody tr th:only-of-type {\n",
              "        vertical-align: middle;\n",
              "    }\n",
              "\n",
              "    .dataframe tbody tr th {\n",
              "        vertical-align: top;\n",
              "    }\n",
              "\n",
              "    .dataframe thead th {\n",
              "        text-align: right;\n",
              "    }\n",
              "</style>\n",
              "<table border=\"1\" class=\"dataframe\">\n",
              "  <thead>\n",
              "    <tr style=\"text-align: right;\">\n",
              "      <th></th>\n",
              "      <th>일자</th>\n",
              "      <th>언론사</th>\n",
              "      <th>본문</th>\n",
              "    </tr>\n",
              "  </thead>\n",
              "  <tbody>\n",
              "    <tr>\n",
              "      <th>0</th>\n",
              "      <td>20220924</td>\n",
              "      <td>파이낸셜뉴스</td>\n",
              "      <td>9월 30일부터 10월 2일까지 갓바위문화타운 일원에서 열려 \\n \\n \\n【파이낸...</td>\n",
              "    </tr>\n",
              "    <tr>\n",
              "      <th>1</th>\n",
              "      <td>20220923</td>\n",
              "      <td>한국일보</td>\n",
              "      <td>정부가 야외에서의 마스크 착용 의무를 26일부터 전면 해제한다고 밝히면서 내달 열리...</td>\n",
              "    </tr>\n",
              "    <tr>\n",
              "      <th>2</th>\n",
              "      <td>20220923</td>\n",
              "      <td>한국일보</td>\n",
              "      <td>야외 공연 즐기기 좋은 가을철을 맞아 대형 음악 축제가 이어진다. 팬데믹 기간 정상...</td>\n",
              "    </tr>\n",
              "    <tr>\n",
              "      <th>3</th>\n",
              "      <td>20220922</td>\n",
              "      <td>광주매일신문</td>\n",
              "      <td>우리나라 대중음악을 빛내는 별들이 ‘목포뮤직플레이’에 대거 출연해 목포의 가을을 장...</td>\n",
              "    </tr>\n",
              "    <tr>\n",
              "      <th>4</th>\n",
              "      <td>20220921</td>\n",
              "      <td>경향신문</td>\n",
              "      <td>50대 여성 A씨는 지난 8일 유명 트로트 가수의 티켓을 판매한다는 게시글을 중고품...</td>\n",
              "    </tr>\n",
              "  </tbody>\n",
              "</table>\n",
              "</div>\n",
              "    <div class=\"colab-df-buttons\">\n",
              "\n",
              "  <div class=\"colab-df-container\">\n",
              "    <button class=\"colab-df-convert\" onclick=\"convertToInteractive('df-a19ffa05-e626-4da5-989a-c51b2be9b9c4')\"\n",
              "            title=\"Convert this dataframe to an interactive table.\"\n",
              "            style=\"display:none;\">\n",
              "\n",
              "  <svg xmlns=\"http://www.w3.org/2000/svg\" height=\"24px\" viewBox=\"0 -960 960 960\">\n",
              "    <path d=\"M120-120v-720h720v720H120Zm60-500h600v-160H180v160Zm220 220h160v-160H400v160Zm0 220h160v-160H400v160ZM180-400h160v-160H180v160Zm440 0h160v-160H620v160ZM180-180h160v-160H180v160Zm440 0h160v-160H620v160Z\"/>\n",
              "  </svg>\n",
              "    </button>\n",
              "\n",
              "  <style>\n",
              "    .colab-df-container {\n",
              "      display:flex;\n",
              "      gap: 12px;\n",
              "    }\n",
              "\n",
              "    .colab-df-convert {\n",
              "      background-color: #E8F0FE;\n",
              "      border: none;\n",
              "      border-radius: 50%;\n",
              "      cursor: pointer;\n",
              "      display: none;\n",
              "      fill: #1967D2;\n",
              "      height: 32px;\n",
              "      padding: 0 0 0 0;\n",
              "      width: 32px;\n",
              "    }\n",
              "\n",
              "    .colab-df-convert:hover {\n",
              "      background-color: #E2EBFA;\n",
              "      box-shadow: 0px 1px 2px rgba(60, 64, 67, 0.3), 0px 1px 3px 1px rgba(60, 64, 67, 0.15);\n",
              "      fill: #174EA6;\n",
              "    }\n",
              "\n",
              "    .colab-df-buttons div {\n",
              "      margin-bottom: 4px;\n",
              "    }\n",
              "\n",
              "    [theme=dark] .colab-df-convert {\n",
              "      background-color: #3B4455;\n",
              "      fill: #D2E3FC;\n",
              "    }\n",
              "\n",
              "    [theme=dark] .colab-df-convert:hover {\n",
              "      background-color: #434B5C;\n",
              "      box-shadow: 0px 1px 3px 1px rgba(0, 0, 0, 0.15);\n",
              "      filter: drop-shadow(0px 1px 2px rgba(0, 0, 0, 0.3));\n",
              "      fill: #FFFFFF;\n",
              "    }\n",
              "  </style>\n",
              "\n",
              "    <script>\n",
              "      const buttonEl =\n",
              "        document.querySelector('#df-a19ffa05-e626-4da5-989a-c51b2be9b9c4 button.colab-df-convert');\n",
              "      buttonEl.style.display =\n",
              "        google.colab.kernel.accessAllowed ? 'block' : 'none';\n",
              "\n",
              "      async function convertToInteractive(key) {\n",
              "        const element = document.querySelector('#df-a19ffa05-e626-4da5-989a-c51b2be9b9c4');\n",
              "        const dataTable =\n",
              "          await google.colab.kernel.invokeFunction('convertToInteractive',\n",
              "                                                    [key], {});\n",
              "        if (!dataTable) return;\n",
              "\n",
              "        const docLinkHtml = 'Like what you see? Visit the ' +\n",
              "          '<a target=\"_blank\" href=https://colab.research.google.com/notebooks/data_table.ipynb>data table notebook</a>'\n",
              "          + ' to learn more about interactive tables.';\n",
              "        element.innerHTML = '';\n",
              "        dataTable['output_type'] = 'display_data';\n",
              "        await google.colab.output.renderOutput(dataTable, element);\n",
              "        const docLink = document.createElement('div');\n",
              "        docLink.innerHTML = docLinkHtml;\n",
              "        element.appendChild(docLink);\n",
              "      }\n",
              "    </script>\n",
              "  </div>\n",
              "\n",
              "\n",
              "    <div id=\"df-cf27e6a2-1862-4047-b727-54d5f290ba77\">\n",
              "      <button class=\"colab-df-quickchart\" onclick=\"quickchart('df-cf27e6a2-1862-4047-b727-54d5f290ba77')\"\n",
              "                title=\"Suggest charts\"\n",
              "                style=\"display:none;\">\n",
              "\n",
              "<svg xmlns=\"http://www.w3.org/2000/svg\" height=\"24px\"viewBox=\"0 0 24 24\"\n",
              "     width=\"24px\">\n",
              "    <g>\n",
              "        <path d=\"M19 3H5c-1.1 0-2 .9-2 2v14c0 1.1.9 2 2 2h14c1.1 0 2-.9 2-2V5c0-1.1-.9-2-2-2zM9 17H7v-7h2v7zm4 0h-2V7h2v10zm4 0h-2v-4h2v4z\"/>\n",
              "    </g>\n",
              "</svg>\n",
              "      </button>\n",
              "\n",
              "<style>\n",
              "  .colab-df-quickchart {\n",
              "      --bg-color: #E8F0FE;\n",
              "      --fill-color: #1967D2;\n",
              "      --hover-bg-color: #E2EBFA;\n",
              "      --hover-fill-color: #174EA6;\n",
              "      --disabled-fill-color: #AAA;\n",
              "      --disabled-bg-color: #DDD;\n",
              "  }\n",
              "\n",
              "  [theme=dark] .colab-df-quickchart {\n",
              "      --bg-color: #3B4455;\n",
              "      --fill-color: #D2E3FC;\n",
              "      --hover-bg-color: #434B5C;\n",
              "      --hover-fill-color: #FFFFFF;\n",
              "      --disabled-bg-color: #3B4455;\n",
              "      --disabled-fill-color: #666;\n",
              "  }\n",
              "\n",
              "  .colab-df-quickchart {\n",
              "    background-color: var(--bg-color);\n",
              "    border: none;\n",
              "    border-radius: 50%;\n",
              "    cursor: pointer;\n",
              "    display: none;\n",
              "    fill: var(--fill-color);\n",
              "    height: 32px;\n",
              "    padding: 0;\n",
              "    width: 32px;\n",
              "  }\n",
              "\n",
              "  .colab-df-quickchart:hover {\n",
              "    background-color: var(--hover-bg-color);\n",
              "    box-shadow: 0 1px 2px rgba(60, 64, 67, 0.3), 0 1px 3px 1px rgba(60, 64, 67, 0.15);\n",
              "    fill: var(--button-hover-fill-color);\n",
              "  }\n",
              "\n",
              "  .colab-df-quickchart-complete:disabled,\n",
              "  .colab-df-quickchart-complete:disabled:hover {\n",
              "    background-color: var(--disabled-bg-color);\n",
              "    fill: var(--disabled-fill-color);\n",
              "    box-shadow: none;\n",
              "  }\n",
              "\n",
              "  .colab-df-spinner {\n",
              "    border: 2px solid var(--fill-color);\n",
              "    border-color: transparent;\n",
              "    border-bottom-color: var(--fill-color);\n",
              "    animation:\n",
              "      spin 1s steps(1) infinite;\n",
              "  }\n",
              "\n",
              "  @keyframes spin {\n",
              "    0% {\n",
              "      border-color: transparent;\n",
              "      border-bottom-color: var(--fill-color);\n",
              "      border-left-color: var(--fill-color);\n",
              "    }\n",
              "    20% {\n",
              "      border-color: transparent;\n",
              "      border-left-color: var(--fill-color);\n",
              "      border-top-color: var(--fill-color);\n",
              "    }\n",
              "    30% {\n",
              "      border-color: transparent;\n",
              "      border-left-color: var(--fill-color);\n",
              "      border-top-color: var(--fill-color);\n",
              "      border-right-color: var(--fill-color);\n",
              "    }\n",
              "    40% {\n",
              "      border-color: transparent;\n",
              "      border-right-color: var(--fill-color);\n",
              "      border-top-color: var(--fill-color);\n",
              "    }\n",
              "    60% {\n",
              "      border-color: transparent;\n",
              "      border-right-color: var(--fill-color);\n",
              "    }\n",
              "    80% {\n",
              "      border-color: transparent;\n",
              "      border-right-color: var(--fill-color);\n",
              "      border-bottom-color: var(--fill-color);\n",
              "    }\n",
              "    90% {\n",
              "      border-color: transparent;\n",
              "      border-bottom-color: var(--fill-color);\n",
              "    }\n",
              "  }\n",
              "</style>\n",
              "\n",
              "      <script>\n",
              "        async function quickchart(key) {\n",
              "          const quickchartButtonEl =\n",
              "            document.querySelector('#' + key + ' button');\n",
              "          quickchartButtonEl.disabled = true;  // To prevent multiple clicks.\n",
              "          quickchartButtonEl.classList.add('colab-df-spinner');\n",
              "          try {\n",
              "            const charts = await google.colab.kernel.invokeFunction(\n",
              "                'suggestCharts', [key], {});\n",
              "          } catch (error) {\n",
              "            console.error('Error during call to suggestCharts:', error);\n",
              "          }\n",
              "          quickchartButtonEl.classList.remove('colab-df-spinner');\n",
              "          quickchartButtonEl.classList.add('colab-df-quickchart-complete');\n",
              "        }\n",
              "        (() => {\n",
              "          let quickchartButtonEl =\n",
              "            document.querySelector('#df-cf27e6a2-1862-4047-b727-54d5f290ba77 button');\n",
              "          quickchartButtonEl.style.display =\n",
              "            google.colab.kernel.accessAllowed ? 'block' : 'none';\n",
              "        })();\n",
              "      </script>\n",
              "    </div>\n",
              "\n",
              "    </div>\n",
              "  </div>\n"
            ],
            "application/vnd.google.colaboratory.intrinsic+json": {
              "type": "dataframe",
              "variable_name": "df",
              "summary": "{\n  \"name\": \"df\",\n  \"rows\": 25,\n  \"fields\": [\n    {\n      \"column\": \"\\uc77c\\uc790\",\n      \"properties\": {\n        \"dtype\": \"number\",\n        \"std\": 84,\n        \"min\": 20220711,\n        \"max\": 20220924,\n        \"num_unique_values\": 20,\n        \"samples\": [\n          20220924,\n          20220713,\n          20220718\n        ],\n        \"semantic_type\": \"\",\n        \"description\": \"\"\n      }\n    },\n    {\n      \"column\": \"\\uc5b8\\ub860\\uc0ac\",\n      \"properties\": {\n        \"dtype\": \"category\",\n        \"num_unique_values\": 12,\n        \"samples\": [\n          \"\\ub0b4\\uc77c\\uc2e0\\ubb38\",\n          \"\\ud55c\\uad6d\\uacbd\\uc81c\",\n          \"\\ud30c\\uc774\\ub0b8\\uc15c\\ub274\\uc2a4\"\n        ],\n        \"semantic_type\": \"\",\n        \"description\": \"\"\n      }\n    },\n    {\n      \"column\": \"\\ubcf8\\ubb38\",\n      \"properties\": {\n        \"dtype\": \"string\",\n        \"num_unique_values\": 25,\n        \"samples\": [\n          \"[\\ud5e4\\ub7f4\\ub4dc\\uacbd\\uc81c=\\uace0\\uc2b9\\ud76c \\uae30\\uc790] \\uac00\\uc218 \\uc774\\uc2b9\\uc724\\uc774 \\uac15\\ub825\\ud55c \\ud2f0\\ucf13 \\ud30c\\uc6cc\\ub97c \\uc785\\uc99d, \\uc0c8\\ub85c\\uc6b4 \\uacf5\\uc5f0 \\uac15\\uc790\\ub85c \\ub5a0\\uc624\\ub974\\uace0 \\uc788\\ub2e4. \\n \\n \\uc18c\\uc18d\\uc0ac \\ub9c8\\ub984\\ubaa8(MAREUMO)\\ub294 \\uc624\\ub294 11\\uc6d4 20\\uc77c \\uc138\\uc885\\ubb38\\ud654\\ud68c\\uad00 \\ub300\\uadf9\\uc7a5\\uc5d0\\uc11c \\uc5f4\\ub9ac\\ub294 \\uc774\\uc2b9\\uc724\\uc758 \\ub2e8\\ub3c5 \\ucf58\\uc11c\\ud2b8\\uac00 \\ud2f0\\ucf13 \\uc624\\ud508 5\\ubd84 \\ub9cc\\uc5d0 \\uc804\\uc11d \\ub9e4\\uc9c4\\uc744 \\uae30\\ub85d\\ud588\\ub2e4\\uace0 6\\uc77c \\ubc1d\\ud614\\ub2e4. \\n \\n \\uc774 \\uacf5\\uc5f0\\uc740 11\\uc6d4 4\\uc77c\\ubd80\\ud130 27\\uc77c\\uae4c\\uc9c0 \\uc9c4\\ud589\\ub418\\ub294 \\u2018\\uc528\\uc5b4\\ud130 \\ubba4\\uc9c1 \\ud398\\uc2a4\\ud2f0\\ubc8c \\u2013..\",\n          \"\\ud750\\ub9ac\\uace0 \\ubb34\\ub354\\uc6b4 \\ub0a0\\uc528\\uac00 \\uacc4\\uc18d\\ub418\\uba74\\uc11c \\uc9c0\\uc790\\uccb4\\ub4e4\\uc774 \\uc6b4\\uc601\\ud558\\ub294 \\ub3c4\\uc2ec \\uc18d \\ud53c\\uc11c\\uc9c0\\uac00 \\uc778\\uae30\\ub97c \\ub04c\\uace0 \\uc788\\ub2e4. \\ubb34\\ub354\\uc704\\uac00 \\ubcf8\\uaca9\\ud654\\ub418\\uba74\\uc11c \\uc2dc\\uc6d0\\ud55c \\uc2e4\\ub0b4\\uc5d0\\uc11c \\ub2e4\\uc591\\ud55c \\ud504\\ub85c\\uadf8\\ub7a8\\uc744 \\uc811\\ud560 \\uc218 \\uc788\\ub294 \\ub3c4\\uc11c\\uad00 \\ubc15\\ubb3c\\uad00\\uc744 \\ucc3e\\uac70\\ub098 \\uac01\\uc885 \\uacf5\\uc5f0\\uc774 \\ud3bc\\uccd0\\uc9c0\\ub294 \\ucd95\\uc81c\\ub098 \\ud589\\uc0ac\\uc7a5\\uc744 \\ucc3e\\uc544\\uac00 '\\ubb38\\ud654 \\ud53c\\uc11c'\\ub97c \\uc990\\uae30\\uae30\\ub3c4 \\ud55c\\ub2e4. \\n\\n\\n \\n\\n\\n4\\uc77c \\uacbd\\uae30 \\uad11\\uba85\\uc2dc\\uc5d0 \\ub530\\ub974\\uba74 \\uc774\\uc0c9 \\ud53c\\uc11c\\uc9c0\\ub85c \\uc18c\\ubb38\\ub09c '\\uad11\\uba85\\ub3d9\\uad74'\\uc740 \\ucd5c\\uadfc \\uc8fc\\ub9d0 \\uc785\\uc7a5\\uac1d\\uc774 ..\",\n          \"9\\uc6d4 30\\uc77c\\ubd80\\ud130 10\\uc6d4 2\\uc77c\\uae4c\\uc9c0 \\uac13\\ubc14\\uc704\\ubb38\\ud654\\ud0c0\\uc6b4 \\uc77c\\uc6d0\\uc5d0\\uc11c \\uc5f4\\ub824 \\n \\n \\n\\u3010\\ud30c\\uc774\\ub0b8\\uc15c\\ub274\\uc2a4 \\ubaa9\\ud3ec=\\ud669\\ud0dc\\uc885 \\uae30\\uc790\\u3011\\uc624\\ub294 9\\uc6d4 30\\uc77c\\ubd80\\ud130 10\\uc6d4 2\\uc77c\\uae4c\\uc9c0 \\uc804\\ub0a8 \\ubaa9\\ud3ec\\uc2dc \\uac13\\ubc14\\uc704\\ubb38\\ud654\\ud0c0\\uc6b4 \\uc77c\\uc6d0\\uc5d0\\uc11c \\uc5f4\\ub9ac\\ub294 '\\ubaa9\\ud3ec\\ubba4\\uc9c1\\ud50c\\ub808\\uc774'\\uac00 \\ud48d\\uc131\\ud55c \\ubcfc\\uac70\\ub9ac \\uc990\\uae38\\uac70\\ub9ac\\ub85c \\uac00\\uc744\\uc5ec\\ud589\\uac1d\\uc758 \\ubc1c\\uae38\\uc744 \\ubd99\\uc7a1\\ub294\\ub2e4. \\n \\n24\\uc77c \\ubaa9\\ud3ec\\uc2dc\\uc5d0 \\ub530\\ub974\\uba74 '\\ubaa9\\ud3ec\\ubba4\\uc9c1\\ud50c\\ub808\\uc774'\\uc5d0\\uc11c \\ubaa9\\ud3ec\\uc758 \\uadfc\\ub300\\ubb38\\ud654\\ub97c \\uc120\\ubcf4\\uc778\\ub2e4. \\n \\n\\uc9c0\\ub09c 1930..\"\n        ],\n        \"semantic_type\": \"\",\n        \"description\": \"\"\n      }\n    }\n  ]\n}"
            }
          },
          "metadata": {},
          "execution_count": 25
        }
      ]
    },
    {
      "cell_type": "code",
      "source": [
        "df.info()"
      ],
      "metadata": {
        "colab": {
          "base_uri": "https://localhost:8080/"
        },
        "id": "z62n72JUAOCo",
        "outputId": "32af9a87-ef61-4ed5-d19f-dd71fcad6252"
      },
      "execution_count": 26,
      "outputs": [
        {
          "output_type": "stream",
          "name": "stdout",
          "text": [
            "<class 'pandas.core.frame.DataFrame'>\n",
            "RangeIndex: 25 entries, 0 to 24\n",
            "Data columns (total 3 columns):\n",
            " #   Column  Non-Null Count  Dtype \n",
            "---  ------  --------------  ----- \n",
            " 0   일자      25 non-null     int64 \n",
            " 1   언론사     25 non-null     object\n",
            " 2   본문      25 non-null     object\n",
            "dtypes: int64(1), object(2)\n",
            "memory usage: 732.0+ bytes\n"
          ]
        }
      ]
    },
    {
      "cell_type": "code",
      "source": [
        "df.isnull().sum()"
      ],
      "metadata": {
        "colab": {
          "base_uri": "https://localhost:8080/",
          "height": 178
        },
        "id": "kHjf7RvtAfIp",
        "outputId": "133ab617-0835-4678-980f-d3b04294c912"
      },
      "execution_count": 27,
      "outputs": [
        {
          "output_type": "execute_result",
          "data": {
            "text/plain": [
              "일자     0\n",
              "언론사    0\n",
              "본문     0\n",
              "dtype: int64"
            ],
            "text/html": [
              "<div>\n",
              "<style scoped>\n",
              "    .dataframe tbody tr th:only-of-type {\n",
              "        vertical-align: middle;\n",
              "    }\n",
              "\n",
              "    .dataframe tbody tr th {\n",
              "        vertical-align: top;\n",
              "    }\n",
              "\n",
              "    .dataframe thead th {\n",
              "        text-align: right;\n",
              "    }\n",
              "</style>\n",
              "<table border=\"1\" class=\"dataframe\">\n",
              "  <thead>\n",
              "    <tr style=\"text-align: right;\">\n",
              "      <th></th>\n",
              "      <th>0</th>\n",
              "    </tr>\n",
              "  </thead>\n",
              "  <tbody>\n",
              "    <tr>\n",
              "      <th>일자</th>\n",
              "      <td>0</td>\n",
              "    </tr>\n",
              "    <tr>\n",
              "      <th>언론사</th>\n",
              "      <td>0</td>\n",
              "    </tr>\n",
              "    <tr>\n",
              "      <th>본문</th>\n",
              "      <td>0</td>\n",
              "    </tr>\n",
              "  </tbody>\n",
              "</table>\n",
              "</div><br><label><b>dtype:</b> int64</label>"
            ]
          },
          "metadata": {},
          "execution_count": 27
        }
      ]
    },
    {
      "cell_type": "markdown",
      "source": [
        "#####  (3) 데이터 전처리 : 결측치 제거"
      ],
      "metadata": {
        "id": "SI8wp_mGAcmF"
      }
    },
    {
      "cell_type": "code",
      "source": [
        "print(df.isnull().sum())"
      ],
      "metadata": {
        "colab": {
          "base_uri": "https://localhost:8080/"
        },
        "id": "SmaVrGmUAN_6",
        "outputId": "2cef6115-5196-409b-d929-e9ed4f7692e1"
      },
      "execution_count": 28,
      "outputs": [
        {
          "output_type": "stream",
          "name": "stdout",
          "text": [
            "일자     0\n",
            "언론사    0\n",
            "본문     0\n",
            "dtype: int64\n"
          ]
        }
      ]
    },
    {
      "cell_type": "markdown",
      "source": [
        "##### (4) 한글과 공백을 제외한 모든 문자 제거"
      ],
      "metadata": {
        "id": "3SKH_l3zA4R9"
      }
    },
    {
      "cell_type": "code",
      "source": [
        "df['정규화본문'] = df['본문'].str.replace(\"[^ㄱ-ㅎㅏ-ㅣ가-힣 0-9]\", \"\")\n",
        "df.head()"
      ],
      "metadata": {
        "colab": {
          "base_uri": "https://localhost:8080/",
          "height": 206
        },
        "id": "S7YMfMnJAN9s",
        "outputId": "03253a52-5080-4b68-fcfa-04f63257aa53"
      },
      "execution_count": 29,
      "outputs": [
        {
          "output_type": "execute_result",
          "data": {
            "text/plain": [
              "         일자     언론사                                                 본문  \\\n",
              "0  20220924  파이낸셜뉴스  9월 30일부터 10월 2일까지 갓바위문화타운 일원에서 열려 \\n \\n \\n【파이낸...   \n",
              "1  20220923    한국일보  정부가 야외에서의 마스크 착용 의무를 26일부터 전면 해제한다고 밝히면서 내달 열리...   \n",
              "2  20220923    한국일보  야외 공연 즐기기 좋은 가을철을 맞아 대형 음악 축제가 이어진다. 팬데믹 기간 정상...   \n",
              "3  20220922  광주매일신문  우리나라 대중음악을 빛내는 별들이 ‘목포뮤직플레이’에 대거 출연해 목포의 가을을 장...   \n",
              "4  20220921    경향신문  50대 여성 A씨는 지난 8일 유명 트로트 가수의 티켓을 판매한다는 게시글을 중고품...   \n",
              "\n",
              "                                               정규화본문  \n",
              "0  9월 30일부터 10월 2일까지 갓바위문화타운 일원에서 열려 \\n \\n \\n【파이낸...  \n",
              "1  정부가 야외에서의 마스크 착용 의무를 26일부터 전면 해제한다고 밝히면서 내달 열리...  \n",
              "2  야외 공연 즐기기 좋은 가을철을 맞아 대형 음악 축제가 이어진다. 팬데믹 기간 정상...  \n",
              "3  우리나라 대중음악을 빛내는 별들이 ‘목포뮤직플레이’에 대거 출연해 목포의 가을을 장...  \n",
              "4  50대 여성 A씨는 지난 8일 유명 트로트 가수의 티켓을 판매한다는 게시글을 중고품...  "
            ],
            "text/html": [
              "\n",
              "  <div id=\"df-05ab84cc-59f2-4348-809e-3eb6acb7a1f2\" class=\"colab-df-container\">\n",
              "    <div>\n",
              "<style scoped>\n",
              "    .dataframe tbody tr th:only-of-type {\n",
              "        vertical-align: middle;\n",
              "    }\n",
              "\n",
              "    .dataframe tbody tr th {\n",
              "        vertical-align: top;\n",
              "    }\n",
              "\n",
              "    .dataframe thead th {\n",
              "        text-align: right;\n",
              "    }\n",
              "</style>\n",
              "<table border=\"1\" class=\"dataframe\">\n",
              "  <thead>\n",
              "    <tr style=\"text-align: right;\">\n",
              "      <th></th>\n",
              "      <th>일자</th>\n",
              "      <th>언론사</th>\n",
              "      <th>본문</th>\n",
              "      <th>정규화본문</th>\n",
              "    </tr>\n",
              "  </thead>\n",
              "  <tbody>\n",
              "    <tr>\n",
              "      <th>0</th>\n",
              "      <td>20220924</td>\n",
              "      <td>파이낸셜뉴스</td>\n",
              "      <td>9월 30일부터 10월 2일까지 갓바위문화타운 일원에서 열려 \\n \\n \\n【파이낸...</td>\n",
              "      <td>9월 30일부터 10월 2일까지 갓바위문화타운 일원에서 열려 \\n \\n \\n【파이낸...</td>\n",
              "    </tr>\n",
              "    <tr>\n",
              "      <th>1</th>\n",
              "      <td>20220923</td>\n",
              "      <td>한국일보</td>\n",
              "      <td>정부가 야외에서의 마스크 착용 의무를 26일부터 전면 해제한다고 밝히면서 내달 열리...</td>\n",
              "      <td>정부가 야외에서의 마스크 착용 의무를 26일부터 전면 해제한다고 밝히면서 내달 열리...</td>\n",
              "    </tr>\n",
              "    <tr>\n",
              "      <th>2</th>\n",
              "      <td>20220923</td>\n",
              "      <td>한국일보</td>\n",
              "      <td>야외 공연 즐기기 좋은 가을철을 맞아 대형 음악 축제가 이어진다. 팬데믹 기간 정상...</td>\n",
              "      <td>야외 공연 즐기기 좋은 가을철을 맞아 대형 음악 축제가 이어진다. 팬데믹 기간 정상...</td>\n",
              "    </tr>\n",
              "    <tr>\n",
              "      <th>3</th>\n",
              "      <td>20220922</td>\n",
              "      <td>광주매일신문</td>\n",
              "      <td>우리나라 대중음악을 빛내는 별들이 ‘목포뮤직플레이’에 대거 출연해 목포의 가을을 장...</td>\n",
              "      <td>우리나라 대중음악을 빛내는 별들이 ‘목포뮤직플레이’에 대거 출연해 목포의 가을을 장...</td>\n",
              "    </tr>\n",
              "    <tr>\n",
              "      <th>4</th>\n",
              "      <td>20220921</td>\n",
              "      <td>경향신문</td>\n",
              "      <td>50대 여성 A씨는 지난 8일 유명 트로트 가수의 티켓을 판매한다는 게시글을 중고품...</td>\n",
              "      <td>50대 여성 A씨는 지난 8일 유명 트로트 가수의 티켓을 판매한다는 게시글을 중고품...</td>\n",
              "    </tr>\n",
              "  </tbody>\n",
              "</table>\n",
              "</div>\n",
              "    <div class=\"colab-df-buttons\">\n",
              "\n",
              "  <div class=\"colab-df-container\">\n",
              "    <button class=\"colab-df-convert\" onclick=\"convertToInteractive('df-05ab84cc-59f2-4348-809e-3eb6acb7a1f2')\"\n",
              "            title=\"Convert this dataframe to an interactive table.\"\n",
              "            style=\"display:none;\">\n",
              "\n",
              "  <svg xmlns=\"http://www.w3.org/2000/svg\" height=\"24px\" viewBox=\"0 -960 960 960\">\n",
              "    <path d=\"M120-120v-720h720v720H120Zm60-500h600v-160H180v160Zm220 220h160v-160H400v160Zm0 220h160v-160H400v160ZM180-400h160v-160H180v160Zm440 0h160v-160H620v160ZM180-180h160v-160H180v160Zm440 0h160v-160H620v160Z\"/>\n",
              "  </svg>\n",
              "    </button>\n",
              "\n",
              "  <style>\n",
              "    .colab-df-container {\n",
              "      display:flex;\n",
              "      gap: 12px;\n",
              "    }\n",
              "\n",
              "    .colab-df-convert {\n",
              "      background-color: #E8F0FE;\n",
              "      border: none;\n",
              "      border-radius: 50%;\n",
              "      cursor: pointer;\n",
              "      display: none;\n",
              "      fill: #1967D2;\n",
              "      height: 32px;\n",
              "      padding: 0 0 0 0;\n",
              "      width: 32px;\n",
              "    }\n",
              "\n",
              "    .colab-df-convert:hover {\n",
              "      background-color: #E2EBFA;\n",
              "      box-shadow: 0px 1px 2px rgba(60, 64, 67, 0.3), 0px 1px 3px 1px rgba(60, 64, 67, 0.15);\n",
              "      fill: #174EA6;\n",
              "    }\n",
              "\n",
              "    .colab-df-buttons div {\n",
              "      margin-bottom: 4px;\n",
              "    }\n",
              "\n",
              "    [theme=dark] .colab-df-convert {\n",
              "      background-color: #3B4455;\n",
              "      fill: #D2E3FC;\n",
              "    }\n",
              "\n",
              "    [theme=dark] .colab-df-convert:hover {\n",
              "      background-color: #434B5C;\n",
              "      box-shadow: 0px 1px 3px 1px rgba(0, 0, 0, 0.15);\n",
              "      filter: drop-shadow(0px 1px 2px rgba(0, 0, 0, 0.3));\n",
              "      fill: #FFFFFF;\n",
              "    }\n",
              "  </style>\n",
              "\n",
              "    <script>\n",
              "      const buttonEl =\n",
              "        document.querySelector('#df-05ab84cc-59f2-4348-809e-3eb6acb7a1f2 button.colab-df-convert');\n",
              "      buttonEl.style.display =\n",
              "        google.colab.kernel.accessAllowed ? 'block' : 'none';\n",
              "\n",
              "      async function convertToInteractive(key) {\n",
              "        const element = document.querySelector('#df-05ab84cc-59f2-4348-809e-3eb6acb7a1f2');\n",
              "        const dataTable =\n",
              "          await google.colab.kernel.invokeFunction('convertToInteractive',\n",
              "                                                    [key], {});\n",
              "        if (!dataTable) return;\n",
              "\n",
              "        const docLinkHtml = 'Like what you see? Visit the ' +\n",
              "          '<a target=\"_blank\" href=https://colab.research.google.com/notebooks/data_table.ipynb>data table notebook</a>'\n",
              "          + ' to learn more about interactive tables.';\n",
              "        element.innerHTML = '';\n",
              "        dataTable['output_type'] = 'display_data';\n",
              "        await google.colab.output.renderOutput(dataTable, element);\n",
              "        const docLink = document.createElement('div');\n",
              "        docLink.innerHTML = docLinkHtml;\n",
              "        element.appendChild(docLink);\n",
              "      }\n",
              "    </script>\n",
              "  </div>\n",
              "\n",
              "\n",
              "    <div id=\"df-8b7b6084-a4fe-4c0a-b53f-3f951ee393ce\">\n",
              "      <button class=\"colab-df-quickchart\" onclick=\"quickchart('df-8b7b6084-a4fe-4c0a-b53f-3f951ee393ce')\"\n",
              "                title=\"Suggest charts\"\n",
              "                style=\"display:none;\">\n",
              "\n",
              "<svg xmlns=\"http://www.w3.org/2000/svg\" height=\"24px\"viewBox=\"0 0 24 24\"\n",
              "     width=\"24px\">\n",
              "    <g>\n",
              "        <path d=\"M19 3H5c-1.1 0-2 .9-2 2v14c0 1.1.9 2 2 2h14c1.1 0 2-.9 2-2V5c0-1.1-.9-2-2-2zM9 17H7v-7h2v7zm4 0h-2V7h2v10zm4 0h-2v-4h2v4z\"/>\n",
              "    </g>\n",
              "</svg>\n",
              "      </button>\n",
              "\n",
              "<style>\n",
              "  .colab-df-quickchart {\n",
              "      --bg-color: #E8F0FE;\n",
              "      --fill-color: #1967D2;\n",
              "      --hover-bg-color: #E2EBFA;\n",
              "      --hover-fill-color: #174EA6;\n",
              "      --disabled-fill-color: #AAA;\n",
              "      --disabled-bg-color: #DDD;\n",
              "  }\n",
              "\n",
              "  [theme=dark] .colab-df-quickchart {\n",
              "      --bg-color: #3B4455;\n",
              "      --fill-color: #D2E3FC;\n",
              "      --hover-bg-color: #434B5C;\n",
              "      --hover-fill-color: #FFFFFF;\n",
              "      --disabled-bg-color: #3B4455;\n",
              "      --disabled-fill-color: #666;\n",
              "  }\n",
              "\n",
              "  .colab-df-quickchart {\n",
              "    background-color: var(--bg-color);\n",
              "    border: none;\n",
              "    border-radius: 50%;\n",
              "    cursor: pointer;\n",
              "    display: none;\n",
              "    fill: var(--fill-color);\n",
              "    height: 32px;\n",
              "    padding: 0;\n",
              "    width: 32px;\n",
              "  }\n",
              "\n",
              "  .colab-df-quickchart:hover {\n",
              "    background-color: var(--hover-bg-color);\n",
              "    box-shadow: 0 1px 2px rgba(60, 64, 67, 0.3), 0 1px 3px 1px rgba(60, 64, 67, 0.15);\n",
              "    fill: var(--button-hover-fill-color);\n",
              "  }\n",
              "\n",
              "  .colab-df-quickchart-complete:disabled,\n",
              "  .colab-df-quickchart-complete:disabled:hover {\n",
              "    background-color: var(--disabled-bg-color);\n",
              "    fill: var(--disabled-fill-color);\n",
              "    box-shadow: none;\n",
              "  }\n",
              "\n",
              "  .colab-df-spinner {\n",
              "    border: 2px solid var(--fill-color);\n",
              "    border-color: transparent;\n",
              "    border-bottom-color: var(--fill-color);\n",
              "    animation:\n",
              "      spin 1s steps(1) infinite;\n",
              "  }\n",
              "\n",
              "  @keyframes spin {\n",
              "    0% {\n",
              "      border-color: transparent;\n",
              "      border-bottom-color: var(--fill-color);\n",
              "      border-left-color: var(--fill-color);\n",
              "    }\n",
              "    20% {\n",
              "      border-color: transparent;\n",
              "      border-left-color: var(--fill-color);\n",
              "      border-top-color: var(--fill-color);\n",
              "    }\n",
              "    30% {\n",
              "      border-color: transparent;\n",
              "      border-left-color: var(--fill-color);\n",
              "      border-top-color: var(--fill-color);\n",
              "      border-right-color: var(--fill-color);\n",
              "    }\n",
              "    40% {\n",
              "      border-color: transparent;\n",
              "      border-right-color: var(--fill-color);\n",
              "      border-top-color: var(--fill-color);\n",
              "    }\n",
              "    60% {\n",
              "      border-color: transparent;\n",
              "      border-right-color: var(--fill-color);\n",
              "    }\n",
              "    80% {\n",
              "      border-color: transparent;\n",
              "      border-right-color: var(--fill-color);\n",
              "      border-bottom-color: var(--fill-color);\n",
              "    }\n",
              "    90% {\n",
              "      border-color: transparent;\n",
              "      border-bottom-color: var(--fill-color);\n",
              "    }\n",
              "  }\n",
              "</style>\n",
              "\n",
              "      <script>\n",
              "        async function quickchart(key) {\n",
              "          const quickchartButtonEl =\n",
              "            document.querySelector('#' + key + ' button');\n",
              "          quickchartButtonEl.disabled = true;  // To prevent multiple clicks.\n",
              "          quickchartButtonEl.classList.add('colab-df-spinner');\n",
              "          try {\n",
              "            const charts = await google.colab.kernel.invokeFunction(\n",
              "                'suggestCharts', [key], {});\n",
              "          } catch (error) {\n",
              "            console.error('Error during call to suggestCharts:', error);\n",
              "          }\n",
              "          quickchartButtonEl.classList.remove('colab-df-spinner');\n",
              "          quickchartButtonEl.classList.add('colab-df-quickchart-complete');\n",
              "        }\n",
              "        (() => {\n",
              "          let quickchartButtonEl =\n",
              "            document.querySelector('#df-8b7b6084-a4fe-4c0a-b53f-3f951ee393ce button');\n",
              "          quickchartButtonEl.style.display =\n",
              "            google.colab.kernel.accessAllowed ? 'block' : 'none';\n",
              "        })();\n",
              "      </script>\n",
              "    </div>\n",
              "\n",
              "    </div>\n",
              "  </div>\n"
            ],
            "application/vnd.google.colaboratory.intrinsic+json": {
              "type": "dataframe",
              "variable_name": "df",
              "summary": "{\n  \"name\": \"df\",\n  \"rows\": 25,\n  \"fields\": [\n    {\n      \"column\": \"\\uc77c\\uc790\",\n      \"properties\": {\n        \"dtype\": \"number\",\n        \"std\": 84,\n        \"min\": 20220711,\n        \"max\": 20220924,\n        \"num_unique_values\": 20,\n        \"samples\": [\n          20220924,\n          20220713,\n          20220718\n        ],\n        \"semantic_type\": \"\",\n        \"description\": \"\"\n      }\n    },\n    {\n      \"column\": \"\\uc5b8\\ub860\\uc0ac\",\n      \"properties\": {\n        \"dtype\": \"category\",\n        \"num_unique_values\": 12,\n        \"samples\": [\n          \"\\ub0b4\\uc77c\\uc2e0\\ubb38\",\n          \"\\ud55c\\uad6d\\uacbd\\uc81c\",\n          \"\\ud30c\\uc774\\ub0b8\\uc15c\\ub274\\uc2a4\"\n        ],\n        \"semantic_type\": \"\",\n        \"description\": \"\"\n      }\n    },\n    {\n      \"column\": \"\\ubcf8\\ubb38\",\n      \"properties\": {\n        \"dtype\": \"string\",\n        \"num_unique_values\": 25,\n        \"samples\": [\n          \"[\\ud5e4\\ub7f4\\ub4dc\\uacbd\\uc81c=\\uace0\\uc2b9\\ud76c \\uae30\\uc790] \\uac00\\uc218 \\uc774\\uc2b9\\uc724\\uc774 \\uac15\\ub825\\ud55c \\ud2f0\\ucf13 \\ud30c\\uc6cc\\ub97c \\uc785\\uc99d, \\uc0c8\\ub85c\\uc6b4 \\uacf5\\uc5f0 \\uac15\\uc790\\ub85c \\ub5a0\\uc624\\ub974\\uace0 \\uc788\\ub2e4. \\n \\n \\uc18c\\uc18d\\uc0ac \\ub9c8\\ub984\\ubaa8(MAREUMO)\\ub294 \\uc624\\ub294 11\\uc6d4 20\\uc77c \\uc138\\uc885\\ubb38\\ud654\\ud68c\\uad00 \\ub300\\uadf9\\uc7a5\\uc5d0\\uc11c \\uc5f4\\ub9ac\\ub294 \\uc774\\uc2b9\\uc724\\uc758 \\ub2e8\\ub3c5 \\ucf58\\uc11c\\ud2b8\\uac00 \\ud2f0\\ucf13 \\uc624\\ud508 5\\ubd84 \\ub9cc\\uc5d0 \\uc804\\uc11d \\ub9e4\\uc9c4\\uc744 \\uae30\\ub85d\\ud588\\ub2e4\\uace0 6\\uc77c \\ubc1d\\ud614\\ub2e4. \\n \\n \\uc774 \\uacf5\\uc5f0\\uc740 11\\uc6d4 4\\uc77c\\ubd80\\ud130 27\\uc77c\\uae4c\\uc9c0 \\uc9c4\\ud589\\ub418\\ub294 \\u2018\\uc528\\uc5b4\\ud130 \\ubba4\\uc9c1 \\ud398\\uc2a4\\ud2f0\\ubc8c \\u2013..\",\n          \"\\ud750\\ub9ac\\uace0 \\ubb34\\ub354\\uc6b4 \\ub0a0\\uc528\\uac00 \\uacc4\\uc18d\\ub418\\uba74\\uc11c \\uc9c0\\uc790\\uccb4\\ub4e4\\uc774 \\uc6b4\\uc601\\ud558\\ub294 \\ub3c4\\uc2ec \\uc18d \\ud53c\\uc11c\\uc9c0\\uac00 \\uc778\\uae30\\ub97c \\ub04c\\uace0 \\uc788\\ub2e4. \\ubb34\\ub354\\uc704\\uac00 \\ubcf8\\uaca9\\ud654\\ub418\\uba74\\uc11c \\uc2dc\\uc6d0\\ud55c \\uc2e4\\ub0b4\\uc5d0\\uc11c \\ub2e4\\uc591\\ud55c \\ud504\\ub85c\\uadf8\\ub7a8\\uc744 \\uc811\\ud560 \\uc218 \\uc788\\ub294 \\ub3c4\\uc11c\\uad00 \\ubc15\\ubb3c\\uad00\\uc744 \\ucc3e\\uac70\\ub098 \\uac01\\uc885 \\uacf5\\uc5f0\\uc774 \\ud3bc\\uccd0\\uc9c0\\ub294 \\ucd95\\uc81c\\ub098 \\ud589\\uc0ac\\uc7a5\\uc744 \\ucc3e\\uc544\\uac00 '\\ubb38\\ud654 \\ud53c\\uc11c'\\ub97c \\uc990\\uae30\\uae30\\ub3c4 \\ud55c\\ub2e4. \\n\\n\\n \\n\\n\\n4\\uc77c \\uacbd\\uae30 \\uad11\\uba85\\uc2dc\\uc5d0 \\ub530\\ub974\\uba74 \\uc774\\uc0c9 \\ud53c\\uc11c\\uc9c0\\ub85c \\uc18c\\ubb38\\ub09c '\\uad11\\uba85\\ub3d9\\uad74'\\uc740 \\ucd5c\\uadfc \\uc8fc\\ub9d0 \\uc785\\uc7a5\\uac1d\\uc774 ..\",\n          \"9\\uc6d4 30\\uc77c\\ubd80\\ud130 10\\uc6d4 2\\uc77c\\uae4c\\uc9c0 \\uac13\\ubc14\\uc704\\ubb38\\ud654\\ud0c0\\uc6b4 \\uc77c\\uc6d0\\uc5d0\\uc11c \\uc5f4\\ub824 \\n \\n \\n\\u3010\\ud30c\\uc774\\ub0b8\\uc15c\\ub274\\uc2a4 \\ubaa9\\ud3ec=\\ud669\\ud0dc\\uc885 \\uae30\\uc790\\u3011\\uc624\\ub294 9\\uc6d4 30\\uc77c\\ubd80\\ud130 10\\uc6d4 2\\uc77c\\uae4c\\uc9c0 \\uc804\\ub0a8 \\ubaa9\\ud3ec\\uc2dc \\uac13\\ubc14\\uc704\\ubb38\\ud654\\ud0c0\\uc6b4 \\uc77c\\uc6d0\\uc5d0\\uc11c \\uc5f4\\ub9ac\\ub294 '\\ubaa9\\ud3ec\\ubba4\\uc9c1\\ud50c\\ub808\\uc774'\\uac00 \\ud48d\\uc131\\ud55c \\ubcfc\\uac70\\ub9ac \\uc990\\uae38\\uac70\\ub9ac\\ub85c \\uac00\\uc744\\uc5ec\\ud589\\uac1d\\uc758 \\ubc1c\\uae38\\uc744 \\ubd99\\uc7a1\\ub294\\ub2e4. \\n \\n24\\uc77c \\ubaa9\\ud3ec\\uc2dc\\uc5d0 \\ub530\\ub974\\uba74 '\\ubaa9\\ud3ec\\ubba4\\uc9c1\\ud50c\\ub808\\uc774'\\uc5d0\\uc11c \\ubaa9\\ud3ec\\uc758 \\uadfc\\ub300\\ubb38\\ud654\\ub97c \\uc120\\ubcf4\\uc778\\ub2e4. \\n \\n\\uc9c0\\ub09c 1930..\"\n        ],\n        \"semantic_type\": \"\",\n        \"description\": \"\"\n      }\n    },\n    {\n      \"column\": \"\\uc815\\uaddc\\ud654\\ubcf8\\ubb38\",\n      \"properties\": {\n        \"dtype\": \"string\",\n        \"num_unique_values\": 25,\n        \"samples\": [\n          \"[\\ud5e4\\ub7f4\\ub4dc\\uacbd\\uc81c=\\uace0\\uc2b9\\ud76c \\uae30\\uc790] \\uac00\\uc218 \\uc774\\uc2b9\\uc724\\uc774 \\uac15\\ub825\\ud55c \\ud2f0\\ucf13 \\ud30c\\uc6cc\\ub97c \\uc785\\uc99d, \\uc0c8\\ub85c\\uc6b4 \\uacf5\\uc5f0 \\uac15\\uc790\\ub85c \\ub5a0\\uc624\\ub974\\uace0 \\uc788\\ub2e4. \\n \\n \\uc18c\\uc18d\\uc0ac \\ub9c8\\ub984\\ubaa8(MAREUMO)\\ub294 \\uc624\\ub294 11\\uc6d4 20\\uc77c \\uc138\\uc885\\ubb38\\ud654\\ud68c\\uad00 \\ub300\\uadf9\\uc7a5\\uc5d0\\uc11c \\uc5f4\\ub9ac\\ub294 \\uc774\\uc2b9\\uc724\\uc758 \\ub2e8\\ub3c5 \\ucf58\\uc11c\\ud2b8\\uac00 \\ud2f0\\ucf13 \\uc624\\ud508 5\\ubd84 \\ub9cc\\uc5d0 \\uc804\\uc11d \\ub9e4\\uc9c4\\uc744 \\uae30\\ub85d\\ud588\\ub2e4\\uace0 6\\uc77c \\ubc1d\\ud614\\ub2e4. \\n \\n \\uc774 \\uacf5\\uc5f0\\uc740 11\\uc6d4 4\\uc77c\\ubd80\\ud130 27\\uc77c\\uae4c\\uc9c0 \\uc9c4\\ud589\\ub418\\ub294 \\u2018\\uc528\\uc5b4\\ud130 \\ubba4\\uc9c1 \\ud398\\uc2a4\\ud2f0\\ubc8c \\u2013..\",\n          \"\\ud750\\ub9ac\\uace0 \\ubb34\\ub354\\uc6b4 \\ub0a0\\uc528\\uac00 \\uacc4\\uc18d\\ub418\\uba74\\uc11c \\uc9c0\\uc790\\uccb4\\ub4e4\\uc774 \\uc6b4\\uc601\\ud558\\ub294 \\ub3c4\\uc2ec \\uc18d \\ud53c\\uc11c\\uc9c0\\uac00 \\uc778\\uae30\\ub97c \\ub04c\\uace0 \\uc788\\ub2e4. \\ubb34\\ub354\\uc704\\uac00 \\ubcf8\\uaca9\\ud654\\ub418\\uba74\\uc11c \\uc2dc\\uc6d0\\ud55c \\uc2e4\\ub0b4\\uc5d0\\uc11c \\ub2e4\\uc591\\ud55c \\ud504\\ub85c\\uadf8\\ub7a8\\uc744 \\uc811\\ud560 \\uc218 \\uc788\\ub294 \\ub3c4\\uc11c\\uad00 \\ubc15\\ubb3c\\uad00\\uc744 \\ucc3e\\uac70\\ub098 \\uac01\\uc885 \\uacf5\\uc5f0\\uc774 \\ud3bc\\uccd0\\uc9c0\\ub294 \\ucd95\\uc81c\\ub098 \\ud589\\uc0ac\\uc7a5\\uc744 \\ucc3e\\uc544\\uac00 '\\ubb38\\ud654 \\ud53c\\uc11c'\\ub97c \\uc990\\uae30\\uae30\\ub3c4 \\ud55c\\ub2e4. \\n\\n\\n \\n\\n\\n4\\uc77c \\uacbd\\uae30 \\uad11\\uba85\\uc2dc\\uc5d0 \\ub530\\ub974\\uba74 \\uc774\\uc0c9 \\ud53c\\uc11c\\uc9c0\\ub85c \\uc18c\\ubb38\\ub09c '\\uad11\\uba85\\ub3d9\\uad74'\\uc740 \\ucd5c\\uadfc \\uc8fc\\ub9d0 \\uc785\\uc7a5\\uac1d\\uc774 ..\",\n          \"9\\uc6d4 30\\uc77c\\ubd80\\ud130 10\\uc6d4 2\\uc77c\\uae4c\\uc9c0 \\uac13\\ubc14\\uc704\\ubb38\\ud654\\ud0c0\\uc6b4 \\uc77c\\uc6d0\\uc5d0\\uc11c \\uc5f4\\ub824 \\n \\n \\n\\u3010\\ud30c\\uc774\\ub0b8\\uc15c\\ub274\\uc2a4 \\ubaa9\\ud3ec=\\ud669\\ud0dc\\uc885 \\uae30\\uc790\\u3011\\uc624\\ub294 9\\uc6d4 30\\uc77c\\ubd80\\ud130 10\\uc6d4 2\\uc77c\\uae4c\\uc9c0 \\uc804\\ub0a8 \\ubaa9\\ud3ec\\uc2dc \\uac13\\ubc14\\uc704\\ubb38\\ud654\\ud0c0\\uc6b4 \\uc77c\\uc6d0\\uc5d0\\uc11c \\uc5f4\\ub9ac\\ub294 '\\ubaa9\\ud3ec\\ubba4\\uc9c1\\ud50c\\ub808\\uc774'\\uac00 \\ud48d\\uc131\\ud55c \\ubcfc\\uac70\\ub9ac \\uc990\\uae38\\uac70\\ub9ac\\ub85c \\uac00\\uc744\\uc5ec\\ud589\\uac1d\\uc758 \\ubc1c\\uae38\\uc744 \\ubd99\\uc7a1\\ub294\\ub2e4. \\n \\n24\\uc77c \\ubaa9\\ud3ec\\uc2dc\\uc5d0 \\ub530\\ub974\\uba74 '\\ubaa9\\ud3ec\\ubba4\\uc9c1\\ud50c\\ub808\\uc774'\\uc5d0\\uc11c \\ubaa9\\ud3ec\\uc758 \\uadfc\\ub300\\ubb38\\ud654\\ub97c \\uc120\\ubcf4\\uc778\\ub2e4. \\n \\n\\uc9c0\\ub09c 1930..\"\n        ],\n        \"semantic_type\": \"\",\n        \"description\": \"\"\n      }\n    }\n  ]\n}"
            }
          },
          "metadata": {},
          "execution_count": 29
        }
      ]
    },
    {
      "cell_type": "markdown",
      "source": [
        "##### (5) 형태소로 토큰화 하여 명사와 형용사 추출한 후에 빈도수 출력"
      ],
      "metadata": {
        "id": "EZQLhDaRBt3n"
      }
    },
    {
      "cell_type": "code",
      "source": [
        "temp_list = []\n",
        "for sentence in df['정규화본문']:\n",
        "    s_list = okt.pos(sentence)\n",
        "    for word, tag in s_list:\n",
        "        if tag in ['Noun', 'Adjective']:\n",
        "            temp_list.append(word)\n",
        "\n",
        "counts = collections.Counter(temp_list)\n",
        "tag = counts.most_common(50)\n",
        "tag"
      ],
      "metadata": {
        "colab": {
          "base_uri": "https://localhost:8080/"
        },
        "id": "BWRpqUXyAN7h",
        "outputId": "a2d03533-b275-46cc-a5e2-e6f97ec86866"
      },
      "execution_count": 30,
      "outputs": [
        {
          "output_type": "execute_result",
          "data": {
            "text/plain": [
              "[('뮤직', 25),\n",
              " ('목포', 22),\n",
              " ('이승윤', 19),\n",
              " ('플레이', 17),\n",
              " ('문화', 16),\n",
              " ('가수', 16),\n",
              " ('음악', 11),\n",
              " ('축제', 10),\n",
              " ('공연', 10),\n",
              " ('투표', 10),\n",
              " ('갓바위', 9),\n",
              " ('목포시', 9),\n",
              " ('지난', 9),\n",
              " ('타운', 8),\n",
              " ('코로나', 8),\n",
              " ('전국', 8),\n",
              " ('통해', 8),\n",
              " ('의', 7),\n",
              " ('티켓', 7),\n",
              " ('스타', 7),\n",
              " ('수', 7),\n",
              " ('더', 7),\n",
              " ('일원', 6),\n",
              " ('있다', 6),\n",
              " ('계획', 6),\n",
              " ('경연', 6),\n",
              " ('온라인', 6),\n",
              " ('진행', 6),\n",
              " ('이', 6),\n",
              " ('팩트', 6),\n",
              " ('어워즈', 6),\n",
              " ('뮤지션', 6),\n",
              " ('추진', 6),\n",
              " ('대표', 5),\n",
              " ('최초', 5),\n",
              " ('대회', 5),\n",
              " ('마름모', 5),\n",
              " ('를', 5),\n",
              " ('보고', 5),\n",
              " ('기자', 4),\n",
              " ('전남', 4),\n",
              " ('국내', 4),\n",
              " ('페스티벌', 4),\n",
              " ('씨', 4),\n",
              " ('브랜드', 4),\n",
              " ('파워', 4),\n",
              " ('위', 4),\n",
              " ('표', 4),\n",
              " ('방송', 4),\n",
              " ('있는', 4)]"
            ]
          },
          "metadata": {},
          "execution_count": 30
        }
      ]
    },
    {
      "cell_type": "markdown",
      "source": [
        "##### (6) 워드클라우드 생성 및 시각화"
      ],
      "metadata": {
        "id": "f1bQKYluBSVR"
      }
    },
    {
      "cell_type": "code",
      "source": [
        "# from wordcloud import WordCloud\n",
        "# import matplotlib.pyplot as plt\n",
        "# from wordcloud import WordCloud\n",
        "\n",
        "wc = WordCloud(font_path=font_path, background_color='white', max_font_size=60, scale=2.0)  # scale은 이미지의 크기를 결정\n",
        "cloud = wc.generate_from_frequencies(dict(tag))\n",
        "\n",
        "plt.figure(figsize=(10, 8))\n",
        "plt.imshow(cloud)\n"
      ],
      "metadata": {
        "colab": {
          "base_uri": "https://localhost:8080/",
          "height": 1000
        },
        "id": "Ltkys_hjAN5O",
        "outputId": "a1de3a06-cd01-4702-9174-29eb1bd6714b"
      },
      "execution_count": 31,
      "outputs": [
        {
          "output_type": "execute_result",
          "data": {
            "text/plain": [
              "<matplotlib.image.AxesImage at 0x787a2a3a0710>"
            ]
          },
          "metadata": {},
          "execution_count": 31
        },
        {
          "output_type": "stream",
          "name": "stderr",
          "text": [
            "WARNING:matplotlib.font_manager:findfont: Font family 'NanumBarunGothic' not found.\n",
            "WARNING:matplotlib.font_manager:findfont: Font family 'NanumBarunGothic' not found.\n",
            "WARNING:matplotlib.font_manager:findfont: Font family 'NanumBarunGothic' not found.\n",
            "WARNING:matplotlib.font_manager:findfont: Font family 'NanumBarunGothic' not found.\n",
            "WARNING:matplotlib.font_manager:findfont: Font family 'NanumBarunGothic' not found.\n",
            "WARNING:matplotlib.font_manager:findfont: Font family 'NanumBarunGothic' not found.\n",
            "WARNING:matplotlib.font_manager:findfont: Font family 'NanumBarunGothic' not found.\n",
            "WARNING:matplotlib.font_manager:findfont: Font family 'NanumBarunGothic' not found.\n",
            "WARNING:matplotlib.font_manager:findfont: Font family 'NanumBarunGothic' not found.\n",
            "WARNING:matplotlib.font_manager:findfont: Font family 'NanumBarunGothic' not found.\n",
            "WARNING:matplotlib.font_manager:findfont: Font family 'NanumBarunGothic' not found.\n",
            "WARNING:matplotlib.font_manager:findfont: Font family 'NanumBarunGothic' not found.\n",
            "WARNING:matplotlib.font_manager:findfont: Font family 'NanumBarunGothic' not found.\n",
            "WARNING:matplotlib.font_manager:findfont: Font family 'NanumBarunGothic' not found.\n",
            "WARNING:matplotlib.font_manager:findfont: Font family 'NanumBarunGothic' not found.\n",
            "WARNING:matplotlib.font_manager:findfont: Font family 'NanumBarunGothic' not found.\n",
            "WARNING:matplotlib.font_manager:findfont: Font family 'NanumBarunGothic' not found.\n",
            "WARNING:matplotlib.font_manager:findfont: Font family 'NanumBarunGothic' not found.\n",
            "WARNING:matplotlib.font_manager:findfont: Font family 'NanumBarunGothic' not found.\n",
            "WARNING:matplotlib.font_manager:findfont: Font family 'NanumBarunGothic' not found.\n",
            "WARNING:matplotlib.font_manager:findfont: Font family 'NanumBarunGothic' not found.\n",
            "WARNING:matplotlib.font_manager:findfont: Font family 'NanumBarunGothic' not found.\n",
            "WARNING:matplotlib.font_manager:findfont: Font family 'NanumBarunGothic' not found.\n",
            "WARNING:matplotlib.font_manager:findfont: Font family 'NanumBarunGothic' not found.\n",
            "WARNING:matplotlib.font_manager:findfont: Font family 'NanumBarunGothic' not found.\n",
            "WARNING:matplotlib.font_manager:findfont: Font family 'NanumBarunGothic' not found.\n",
            "WARNING:matplotlib.font_manager:findfont: Font family 'NanumBarunGothic' not found.\n",
            "WARNING:matplotlib.font_manager:findfont: Font family 'NanumBarunGothic' not found.\n",
            "WARNING:matplotlib.font_manager:findfont: Font family 'NanumBarunGothic' not found.\n",
            "WARNING:matplotlib.font_manager:findfont: Font family 'NanumBarunGothic' not found.\n",
            "WARNING:matplotlib.font_manager:findfont: Font family 'NanumBarunGothic' not found.\n",
            "WARNING:matplotlib.font_manager:findfont: Font family 'NanumBarunGothic' not found.\n",
            "WARNING:matplotlib.font_manager:findfont: Font family 'NanumBarunGothic' not found.\n",
            "WARNING:matplotlib.font_manager:findfont: Font family 'NanumBarunGothic' not found.\n",
            "WARNING:matplotlib.font_manager:findfont: Font family 'NanumBarunGothic' not found.\n",
            "WARNING:matplotlib.font_manager:findfont: Font family 'NanumBarunGothic' not found.\n",
            "WARNING:matplotlib.font_manager:findfont: Font family 'NanumBarunGothic' not found.\n",
            "WARNING:matplotlib.font_manager:findfont: Font family 'NanumBarunGothic' not found.\n",
            "WARNING:matplotlib.font_manager:findfont: Font family 'NanumBarunGothic' not found.\n",
            "WARNING:matplotlib.font_manager:findfont: Font family 'NanumBarunGothic' not found.\n",
            "WARNING:matplotlib.font_manager:findfont: Font family 'NanumBarunGothic' not found.\n",
            "WARNING:matplotlib.font_manager:findfont: Font family 'NanumBarunGothic' not found.\n",
            "WARNING:matplotlib.font_manager:findfont: Font family 'NanumBarunGothic' not found.\n",
            "WARNING:matplotlib.font_manager:findfont: Font family 'NanumBarunGothic' not found.\n",
            "WARNING:matplotlib.font_manager:findfont: Font family 'NanumBarunGothic' not found.\n",
            "WARNING:matplotlib.font_manager:findfont: Font family 'NanumBarunGothic' not found.\n",
            "WARNING:matplotlib.font_manager:findfont: Font family 'NanumBarunGothic' not found.\n",
            "WARNING:matplotlib.font_manager:findfont: Font family 'NanumBarunGothic' not found.\n",
            "WARNING:matplotlib.font_manager:findfont: Font family 'NanumBarunGothic' not found.\n",
            "WARNING:matplotlib.font_manager:findfont: Font family 'NanumBarunGothic' not found.\n",
            "WARNING:matplotlib.font_manager:findfont: Font family 'NanumBarunGothic' not found.\n",
            "WARNING:matplotlib.font_manager:findfont: Font family 'NanumBarunGothic' not found.\n",
            "WARNING:matplotlib.font_manager:findfont: Font family 'NanumBarunGothic' not found.\n",
            "WARNING:matplotlib.font_manager:findfont: Font family 'NanumBarunGothic' not found.\n",
            "WARNING:matplotlib.font_manager:findfont: Font family 'NanumBarunGothic' not found.\n",
            "WARNING:matplotlib.font_manager:findfont: Font family 'NanumBarunGothic' not found.\n",
            "WARNING:matplotlib.font_manager:findfont: Font family 'NanumBarunGothic' not found.\n",
            "WARNING:matplotlib.font_manager:findfont: Font family 'NanumBarunGothic' not found.\n"
          ]
        },
        {
          "output_type": "display_data",
          "data": {
            "text/plain": [
              "<Figure size 1000x800 with 1 Axes>"
            ],
            "image/png": "[encoded data removed]"
          },
          "metadata": {}
        }
      ]
    },
    {
      "cell_type": "markdown",
      "source": [
        "##### (7) 원하는 모양으로 워드클라우드 생성 및 시각화"
      ],
      "metadata": {
        "id": "px57QHY8CD83"
      }
    },
    {
      "cell_type": "code",
      "source": [
        "import numpy as np\n",
        "from PIL import Image\n",
        "\n",
        "img = Image.open('/content/검은배경.jpg')\n",
        "img_array = np.array(img)\n",
        "\n",
        "wc = WordCloud(\n",
        "    font_path=font_path,\n",
        "    width=400,\n",
        "    height=400,\n",
        "    scale=2.0,\n",
        "    max_font_size=250,\n",
        "    mask=img_array\n",
        ")\n",
        "\n",
        "gen = wc.generate_from_frequencies(dict(tag))\n",
        "\n",
        "import matplotlib.pyplot as plt\n",
        "plt.figure(figsize=(10, 8))\n",
        "plt.imshow(gen)\n"
      ],
      "metadata": {
        "colab": {
          "base_uri": "https://localhost:8080/",
          "height": 349
        },
        "id": "W1rFFUS4AN3A",
        "outputId": "1cd6c020-069b-4665-9faa-441d9b47d19e"
      },
      "execution_count": 32,
      "outputs": [
        {
          "output_type": "error",
          "ename": "FileNotFoundError",
          "evalue": "[Errno 2] No such file or directory: '/content/검은배경.jpg'",
          "traceback": [
            "\u001b[0;31m---------------------------------------------------------------------------\u001b[0m",
            "\u001b[0;31mFileNotFoundError\u001b[0m                         Traceback (most recent call last)",
            "\u001b[0;32m<ipython-input-32-64fad2dda1f9>\u001b[0m in \u001b[0;36m<cell line: 0>\u001b[0;34m()\u001b[0m\n\u001b[1;32m      2\u001b[0m \u001b[0;32mfrom\u001b[0m \u001b[0mPIL\u001b[0m \u001b[0;32mimport\u001b[0m \u001b[0mImage\u001b[0m\u001b[0;34m\u001b[0m\u001b[0;34m\u001b[0m\u001b[0m\n\u001b[1;32m      3\u001b[0m \u001b[0;34m\u001b[0m\u001b[0m\n\u001b[0;32m----> 4\u001b[0;31m \u001b[0mimg\u001b[0m \u001b[0;34m=\u001b[0m \u001b[0mImage\u001b[0m\u001b[0;34m.\u001b[0m\u001b[0mopen\u001b[0m\u001b[0;34m(\u001b[0m\u001b[0;34m'/content/검은배경.jpg'\u001b[0m\u001b[0;34m)\u001b[0m\u001b[0;34m\u001b[0m\u001b[0;34m\u001b[0m\u001b[0m\n\u001b[0m\u001b[1;32m      5\u001b[0m \u001b[0mimg_array\u001b[0m \u001b[0;34m=\u001b[0m \u001b[0mnp\u001b[0m\u001b[0;34m.\u001b[0m\u001b[0marray\u001b[0m\u001b[0;34m(\u001b[0m\u001b[0mimg\u001b[0m\u001b[0;34m)\u001b[0m\u001b[0;34m\u001b[0m\u001b[0;34m\u001b[0m\u001b[0m\n\u001b[1;32m      6\u001b[0m \u001b[0;34m\u001b[0m\u001b[0m\n",
            "\u001b[0;32m/usr/local/lib/python3.11/dist-packages/PIL/Image.py\u001b[0m in \u001b[0;36mopen\u001b[0;34m(fp, mode, formats)\u001b[0m\n\u001b[1;32m   3503\u001b[0m \u001b[0;34m\u001b[0m\u001b[0m\n\u001b[1;32m   3504\u001b[0m     \u001b[0;32mif\u001b[0m \u001b[0mfilename\u001b[0m\u001b[0;34m:\u001b[0m\u001b[0;34m\u001b[0m\u001b[0;34m\u001b[0m\u001b[0m\n\u001b[0;32m-> 3505\u001b[0;31m         \u001b[0mfp\u001b[0m \u001b[0;34m=\u001b[0m \u001b[0mbuiltins\u001b[0m\u001b[0;34m.\u001b[0m\u001b[0mopen\u001b[0m\u001b[0;34m(\u001b[0m\u001b[0mfilename\u001b[0m\u001b[0;34m,\u001b[0m \u001b[0;34m\"rb\"\u001b[0m\u001b[0;34m)\u001b[0m\u001b[0;34m\u001b[0m\u001b[0;34m\u001b[0m\u001b[0m\n\u001b[0m\u001b[1;32m   3506\u001b[0m         \u001b[0mexclusive_fp\u001b[0m \u001b[0;34m=\u001b[0m \u001b[0;32mTrue\u001b[0m\u001b[0;34m\u001b[0m\u001b[0;34m\u001b[0m\u001b[0m\n\u001b[1;32m   3507\u001b[0m     \u001b[0;32melse\u001b[0m\u001b[0;34m:\u001b[0m\u001b[0;34m\u001b[0m\u001b[0;34m\u001b[0m\u001b[0m\n",
            "\u001b[0;31mFileNotFoundError\u001b[0m: [Errno 2] No such file or directory: '/content/검은배경.jpg'"
          ]
        }
      ]
    },
    {
      "cell_type": "code",
      "source": [],
      "metadata": {
        "id": "rqt9z0ldAN0l"
      },
      "execution_count": null,
      "outputs": []
    },
    {
      "cell_type": "code",
      "source": [],
      "metadata": {
        "id": "ljV1UvDwANyN"
      },
      "execution_count": null,
      "outputs": []
    },
    {
      "cell_type": "code",
      "source": [],
      "metadata": {
        "id": "OW1yYTCcANvn"
      },
      "execution_count": null,
      "outputs": []
    },
    {
      "cell_type": "code",
      "source": [],
      "metadata": {
        "id": "XM_0kG_t28Ko"
      },
      "execution_count": null,
      "outputs": []
    }
  ]
}